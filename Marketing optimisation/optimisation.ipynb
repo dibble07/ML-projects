{
 "cells": [
  {
   "cell_type": "markdown",
   "metadata": {},
   "source": [
    "# Optimisation\n",
    "\n",
    "Optimise the ordering strategy of marketing calls to maximise profit"
   ]
  },
  {
   "cell_type": "markdown",
   "metadata": {},
   "source": [
    "## Initialise environment and load data"
   ]
  },
  {
   "cell_type": "code",
   "execution_count": 1,
   "metadata": {},
   "outputs": [
    {
     "name": "stderr",
     "output_type": "stream",
     "text": [
      "test_categorical (utils.test_corr_fun) ... ok\n",
      "test_numerical (utils.test_corr_fun) ... ok\n",
      "\n",
      "----------------------------------------------------------------------\n",
      "Ran 2 tests in 0.013s\n",
      "\n",
      "OK\n"
     ]
    }
   ],
   "source": [
    "# import libraries\n",
    "from deap import base, creator, tools\n",
    "import joblib\n",
    "from matplotlib import cm, ticker\n",
    "import matplotlib.pyplot as plt\n",
    "import numpy as np\n",
    "import pandas as pd\n",
    "import random\n",
    "random.seed(42)\n",
    "from sklearn.pipeline import Pipeline\n",
    "from tensorflow.keras.models import load_model\n",
    "import time\n",
    "import unittest\n",
    "import utils\n",
    "\n",
    "# run unit tests\n",
    "_ = unittest.TextTestRunner(verbosity=2).run(unittest.TestLoader().loadTestsFromModule(utils))"
   ]
  },
  {
   "cell_type": "code",
   "execution_count": 2,
   "metadata": {},
   "outputs": [],
   "source": [
    "# load data\n",
    "_, _, y_test_df, _, _, X_test_df, ordinality_dict = utils.get_data()"
   ]
  },
  {
   "cell_type": "code",
   "execution_count": 3,
   "metadata": {},
   "outputs": [
    {
     "name": "stdout",
     "output_type": "stream",
     "text": [
      "Metal device set to: Apple M2 Pro\n",
      "\n",
      "systemMemory: 16.00 GB\n",
      "maxCacheSize: 5.33 GB\n",
      "\n"
     ]
    },
    {
     "name": "stderr",
     "output_type": "stream",
     "text": [
      "2024-02-01 11:07:39.218247: I tensorflow/core/common_runtime/pluggable_device/pluggable_device_factory.cc:305] Could not identify NUMA node of platform GPU ID 0, defaulting to 0. Your kernel may not have been built with NUMA support.\n",
      "2024-02-01 11:07:39.218415: I tensorflow/core/common_runtime/pluggable_device/pluggable_device_factory.cc:271] Created TensorFlow device (/job:localhost/replica:0/task:0/device:GPU:0 with 0 MB memory) -> physical PluggableDevice (device: 0, name: METAL, pci bus id: <undefined>)\n"
     ]
    }
   ],
   "source": [
    "# load prediction pipeline\n",
    "\n",
    "# load keras model and transformer\n",
    "est = load_model('estimator.h5', custom_objects={'RevenueAttained': utils.RevenueAttained, 'revenue_attained': utils.revenue_attained})\n",
    "preproc_trans = joblib.load('transformer.pkl')\n",
    "\n",
    "# combine transformer and estimator into a single pipeline\n",
    "full_predictor = Pipeline([\n",
    "    ('vect', preproc_trans),\n",
    "    ('est', est),\n",
    "])"
   ]
  },
  {
   "cell_type": "markdown",
   "metadata": {},
   "source": [
    "## Evaluate objective function domain space\n",
    "\n",
    "Some of the devices will have negative expected profit values for every day of the week. As there is no interaction between customers, it is reasonable to excluded these customers and reduce the optimisation search space domain."
   ]
  },
  {
   "cell_type": "code",
   "execution_count": 4,
   "metadata": {},
   "outputs": [
    {
     "name": "stderr",
     "output_type": "stream",
     "text": [
      "2024-02-01 11:07:39.393194: W tensorflow/core/platform/profile_utils/cpu_utils.cc:128] Failed to get CPU frequency: 0 Hz\n"
     ]
    },
    {
     "name": "stdout",
     "output_type": "stream",
     "text": [
      " 50/103 [=============>................] - ETA: 0s"
     ]
    },
    {
     "name": "stderr",
     "output_type": "stream",
     "text": [
      "2024-02-01 11:07:39.442113: I tensorflow/core/grappler/optimizers/custom_graph_optimizer_registry.cc:113] Plugin optimizer for device_type GPU is enabled.\n"
     ]
    },
    {
     "name": "stdout",
     "output_type": "stream",
     "text": [
      "103/103 [==============================] - 0s 2ms/step\n",
      "103/103 [==============================] - 0s 2ms/step\n",
      "103/103 [==============================] - 0s 2ms/step\n",
      "103/103 [==============================] - 0s 2ms/step\n",
      "103/103 [==============================] - 0s 2ms/step\n"
     ]
    },
    {
     "data": {
      "text/html": [
       "<div>\n",
       "<style scoped>\n",
       "    .dataframe tbody tr th:only-of-type {\n",
       "        vertical-align: middle;\n",
       "    }\n",
       "\n",
       "    .dataframe tbody tr th {\n",
       "        vertical-align: top;\n",
       "    }\n",
       "\n",
       "    .dataframe thead th {\n",
       "        text-align: right;\n",
       "    }\n",
       "</style>\n",
       "<table border=\"1\" class=\"dataframe\">\n",
       "  <thead>\n",
       "    <tr style=\"text-align: right;\">\n",
       "      <th></th>\n",
       "      <th>mon</th>\n",
       "      <th>tue</th>\n",
       "      <th>wed</th>\n",
       "      <th>thu</th>\n",
       "      <th>fri</th>\n",
       "    </tr>\n",
       "  </thead>\n",
       "  <tbody>\n",
       "    <tr>\n",
       "      <th>20628</th>\n",
       "      <td>0.042609</td>\n",
       "      <td>0.043726</td>\n",
       "      <td>0.046192</td>\n",
       "      <td>0.051771</td>\n",
       "      <td>0.061706</td>\n",
       "    </tr>\n",
       "    <tr>\n",
       "      <th>4344</th>\n",
       "      <td>0.981640</td>\n",
       "      <td>0.985261</td>\n",
       "      <td>0.987877</td>\n",
       "      <td>0.990004</td>\n",
       "      <td>0.991708</td>\n",
       "    </tr>\n",
       "    <tr>\n",
       "      <th>20933</th>\n",
       "      <td>0.000226</td>\n",
       "      <td>0.000202</td>\n",
       "      <td>0.000205</td>\n",
       "      <td>0.000223</td>\n",
       "      <td>0.000256</td>\n",
       "    </tr>\n",
       "    <tr>\n",
       "      <th>4641</th>\n",
       "      <td>0.057883</td>\n",
       "      <td>0.055722</td>\n",
       "      <td>0.055257</td>\n",
       "      <td>0.057246</td>\n",
       "      <td>0.060892</td>\n",
       "    </tr>\n",
       "    <tr>\n",
       "      <th>4638</th>\n",
       "      <td>0.016857</td>\n",
       "      <td>0.014832</td>\n",
       "      <td>0.014049</td>\n",
       "      <td>0.014114</td>\n",
       "      <td>0.015718</td>\n",
       "    </tr>\n",
       "  </tbody>\n",
       "</table>\n",
       "</div>"
      ],
      "text/plain": [
       "            mon       tue       wed       thu       fri\n",
       "20628  0.042609  0.043726  0.046192  0.051771  0.061706\n",
       "4344   0.981640  0.985261  0.987877  0.990004  0.991708\n",
       "20933  0.000226  0.000202  0.000205  0.000223  0.000256\n",
       "4641   0.057883  0.055722  0.055257  0.057246  0.060892\n",
       "4638   0.016857  0.014832  0.014049  0.014114  0.015718"
      ]
     },
     "execution_count": 4,
     "metadata": {},
     "output_type": "execute_result"
    }
   ],
   "source": [
    "# calculate the probability of success for each customer on each of the potential call days\n",
    "X_temp = X_test_df.copy()\n",
    "P_succ = pd.DataFrame(index=X_test_df.index)\n",
    "for dow in ordinality_dict['day_of_week']:\n",
    "    X_temp['day_of_week'] = dow\n",
    "    P_succ[dow] = np.squeeze(full_predictor.predict(X_temp))\n",
    "P_succ.head()"
   ]
  },
  {
   "cell_type": "code",
   "execution_count": 5,
   "metadata": {},
   "outputs": [
    {
     "data": {
      "text/html": [
       "<div>\n",
       "<style scoped>\n",
       "    .dataframe tbody tr th:only-of-type {\n",
       "        vertical-align: middle;\n",
       "    }\n",
       "\n",
       "    .dataframe tbody tr th {\n",
       "        vertical-align: top;\n",
       "    }\n",
       "\n",
       "    .dataframe thead th {\n",
       "        text-align: right;\n",
       "    }\n",
       "</style>\n",
       "<table border=\"1\" class=\"dataframe\">\n",
       "  <thead>\n",
       "    <tr style=\"text-align: right;\">\n",
       "      <th></th>\n",
       "      <th>mon</th>\n",
       "      <th>tue</th>\n",
       "      <th>wed</th>\n",
       "      <th>thu</th>\n",
       "      <th>fri</th>\n",
       "    </tr>\n",
       "  </thead>\n",
       "  <tbody>\n",
       "    <tr>\n",
       "      <th>20628</th>\n",
       "      <td>-2.591266</td>\n",
       "      <td>-2.501925</td>\n",
       "      <td>-2.304650</td>\n",
       "      <td>-1.858353</td>\n",
       "      <td>-1.063495</td>\n",
       "    </tr>\n",
       "    <tr>\n",
       "      <th>4344</th>\n",
       "      <td>72.531166</td>\n",
       "      <td>72.820877</td>\n",
       "      <td>73.030151</td>\n",
       "      <td>73.200356</td>\n",
       "      <td>73.336647</td>\n",
       "    </tr>\n",
       "    <tr>\n",
       "      <th>20933</th>\n",
       "      <td>-5.981922</td>\n",
       "      <td>-5.983861</td>\n",
       "      <td>-5.983634</td>\n",
       "      <td>-5.982180</td>\n",
       "      <td>-5.979484</td>\n",
       "    </tr>\n",
       "    <tr>\n",
       "      <th>4641</th>\n",
       "      <td>-1.369348</td>\n",
       "      <td>-1.542253</td>\n",
       "      <td>-1.579425</td>\n",
       "      <td>-1.420300</td>\n",
       "      <td>-1.128650</td>\n",
       "    </tr>\n",
       "    <tr>\n",
       "      <th>4638</th>\n",
       "      <td>-4.651447</td>\n",
       "      <td>-4.813415</td>\n",
       "      <td>-4.876094</td>\n",
       "      <td>-4.870864</td>\n",
       "      <td>-4.742537</td>\n",
       "    </tr>\n",
       "  </tbody>\n",
       "</table>\n",
       "</div>"
      ],
      "text/plain": [
       "             mon        tue        wed        thu        fri\n",
       "20628  -2.591266  -2.501925  -2.304650  -1.858353  -1.063495\n",
       "4344   72.531166  72.820877  73.030151  73.200356  73.336647\n",
       "20933  -5.981922  -5.983861  -5.983634  -5.982180  -5.979484\n",
       "4641   -1.369348  -1.542253  -1.579425  -1.420300  -1.128650\n",
       "4638   -4.651447  -4.813415  -4.876094  -4.870864  -4.742537"
      ]
     },
     "execution_count": 5,
     "metadata": {},
     "output_type": "execute_result"
    }
   ],
   "source": [
    "# calculate the expected profit for each customer on each of the potential call days\n",
    "E_profit = P_succ*74+(1-P_succ)*-6\n",
    "E_profit.head()"
   ]
  },
  {
   "cell_type": "code",
   "execution_count": 6,
   "metadata": {},
   "outputs": [],
   "source": [
    "# define constraint values\n",
    "age_const = 0.5\n",
    "job_const = 0.4\n",
    "n_daily = 300\n",
    "n_total = 1000"
   ]
  },
  {
   "cell_type": "code",
   "execution_count": 7,
   "metadata": {},
   "outputs": [
    {
     "data": {
      "text/plain": [
       "True     2325\n",
       "False     970\n",
       "Name: potent_profit, dtype: int64"
      ]
     },
     "execution_count": 7,
     "metadata": {},
     "output_type": "execute_result"
    }
   ],
   "source": [
    "# identify and drop customers who are expected to be a loss, even if called on their optimum day\n",
    "\n",
    "# identify which customer could yield a profit\n",
    "X_supp = E_profit.max(axis=1).to_frame('max_exp_profit')\n",
    "X_supp['potent_profit'] = X_supp['max_exp_profit']>0\n",
    "ind_keep = X_supp.loc[X_supp['max_exp_profit']>0].index\n",
    "\n",
    "# decide how many devices should be considered in random allocation\n",
    "n_rand = min(X_supp['potent_profit'].value_counts()[True],n_total) # up to n_total profitable customers\n",
    "\n",
    "# drop customers which are not expected to be profitable\n",
    "y_test_df = y_test_df.loc[ind_keep]\n",
    "X_test_df = X_test_df.loc[ind_keep]\n",
    "P_succ = P_succ.loc[ind_keep]\n",
    "E_profit = E_profit.loc[ind_keep]\n",
    "\n",
    "# add expected profit from choosing not to call a customer\n",
    "E_profit['never'] = 0\n",
    "\n",
    "# display counts of each device classification\n",
    "X_supp['potent_profit'].value_counts()"
   ]
  },
  {
   "cell_type": "code",
   "execution_count": 8,
   "metadata": {},
   "outputs": [],
   "source": [
    "# assess customer's applicability to constraints\n",
    "X_supp['age_const'] = X_test_df['age']<45\n",
    "X_supp['job_const'] = X_test_df['job'].isin(['blue_collar','admin','technician','housemaid'])"
   ]
  },
  {
   "cell_type": "markdown",
   "metadata": {},
   "source": [
    "## Define function to check contraints"
   ]
  },
  {
   "cell_type": "code",
   "execution_count": 9,
   "metadata": {},
   "outputs": [],
   "source": [
    "# constraint magnitude\n",
    "def constraints_magnitude(sample):\n",
    "\n",
    "    # customer attributes constraints\n",
    "    ind = sample.keys()\n",
    "    age_limit = max(0,age_const-X_supp.loc[ind,'age_const'].value_counts(normalize=True)[True])*len(sample)\n",
    "    job_limit = max(0,job_const-X_supp.loc[ind,'job_const'].value_counts(normalize=True)[True])*len(sample)\n",
    "\n",
    "    # call volume constraints\n",
    "    dow = sample.values()\n",
    "    a = pd.Series(dow).value_counts()\n",
    "    daily_limit = (a-n_daily).clip(lower=0).sum()\n",
    "    total_limit = max(a.sum()-n_total,0)\n",
    "    \n",
    "    return daily_limit, total_limit, age_limit, job_limit\n",
    "    \n",
    "# constraint boolean\n",
    "def constraints_boolean(sample):\n",
    "\n",
    "    # calculate magnitude of contraint violation\n",
    "    violation_size = constraints_magnitude(sample)\n",
    "\n",
    "    # check if any contraints are violated\n",
    "    all_met = all([i<=0 for i in violation_size])\n",
    "\n",
    "    return all_met"
   ]
  },
  {
   "cell_type": "markdown",
   "metadata": {},
   "source": [
    "The ability to reduce the number of devices to consider is very powerful. As the number of combination is 6^n, the reduction factor in number of combinations is very large . This will greatly improve the speed with which the optimisation can reach its optimum. "
   ]
  },
  {
   "cell_type": "markdown",
   "metadata": {},
   "source": [
    "## Randomized feasible solution\n",
    "Create a randomly selected set of devices for each day that meets the required constraints and calculate the profit that this strategy would yield"
   ]
  },
  {
   "cell_type": "code",
   "execution_count": 10,
   "metadata": {},
   "outputs": [],
   "source": [
    "# function to create random sample of devices and call days\n",
    "def random_sample_generator(n):\n",
    "\n",
    "    # randomly selected device indices and days of week\n",
    "    ind = random.sample(X_test_df.index.tolist(),k=n)\n",
    "    dow = random.choices(ordinality_dict['day_of_week'],k=n)\n",
    "\n",
    "    # combine to create sample\n",
    "    sample = dict(zip(ind,dow))\n",
    "\n",
    "    return sample\n",
    "\n",
    "# function to create random feasible sample of devices and call days\n",
    "def random_feasible_sample_generator(n):\n",
    "\n",
    "    # generate initial random sample\n",
    "    sample = random_sample_generator(n)\n",
    "\n",
    "    # generate new random sample until contraints are met\n",
    "    while not constraints_boolean(sample):\n",
    "        sample = random_sample_generator(n)\n",
    "\n",
    "    return sample\n"
   ]
  },
  {
   "cell_type": "code",
   "execution_count": 11,
   "metadata": {},
   "outputs": [
    {
     "name": "stdout",
     "output_type": "stream",
     "text": [
      "The expected profit from all calls is £61,126.99\n"
     ]
    },
    {
     "data": {
      "image/png": "[encoded data removed]",
      "text/plain": [
       "<Figure size 640x480 with 1 Axes>"
      ]
     },
     "metadata": {},
     "output_type": "display_data"
    }
   ],
   "source": [
    "# evaluate effectiveness of randomized selection\n",
    "random_sample = random_feasible_sample_generator(n_total)\n",
    "E_profit_rand = pd.Series([E_profit.loc[ind,dow] for ind, dow in random_sample.items()]) # extract expected profit from each selected customer on the assigned call day\n",
    "random_sample_profit = E_profit_rand.sum()\n",
    "print(f'The expected profit from all calls is £{random_sample_profit:,.2f}')\n",
    "ax = E_profit_rand.plot.hist(bins=20)\n",
    "_ = ax.set_xlabel('expected_profit')"
   ]
  },
  {
   "cell_type": "markdown",
   "metadata": {},
   "source": [
    "The total profit intuitively feels positive. It should be noted that some of the expected profits are negative. This is correct as some devices may have had a positive expected profit on their optimal day (met criteria for call consideration) but were randomly assigned to a non-optimum day."
   ]
  },
  {
   "cell_type": "markdown",
   "metadata": {},
   "source": [
    "## Optimised solution\n",
    "Optimise the selection of customers and call days to maximise expected profit.\n",
    "\n",
    "Whilst there are many optimisation algorithms available. The specific formulation of this problem considerably constrains the available choices:\n",
    "- Local optimisers cannot be used as they are primarily for continuous functions, especially those utilising gradients. Additionally, there is no expectation that the fitness function would be convex.\n",
    "- MILP cannot be used because the objective function is not linear\n",
    "- Global optimiser that are designed for continuous functions are also excluded as the problem is represented using integers\n",
    "\n",
    "Due to these restrictions, the Genetic Algorithm is selected for the optimisation."
   ]
  },
  {
   "cell_type": "code",
   "execution_count": 12,
   "metadata": {},
   "outputs": [],
   "source": [
    "# define optimisation parameters\n",
    "n_opt = X_supp['potent_profit'].value_counts()[True] # number of customers to optimise for.\n",
    "n_pop = 100 # size of population\n",
    "CXPB, MUTPB = 0.25, 0.1 # probability of crossing and mutating\n",
    "day_int_map = {i:k for i,k in enumerate(E_profit.columns)} # create mapping to integer as GA takes integers\n",
    "int_day_map = {k:i for i,k in day_int_map.items()} # inverse mapping\n",
    "unselected_ind = [k for k,v in day_int_map.items() if v=='never'][0] # index of unselected customers\n",
    "max_gen = 5_000 # max number of generations\n",
    "max_dur = 10*60 # maximum duration of optimisation in seconds\n",
    "n_early_stop = 500 # maximum number of generation to continue for without seeing improvement"
   ]
  },
  {
   "cell_type": "code",
   "execution_count": 13,
   "metadata": {},
   "outputs": [],
   "source": [
    "# define optimisation function\n",
    "\n",
    "# objective function\n",
    "def obj_fun(individual):\n",
    "\n",
    "    # extract expected profit for each device on their selected day\n",
    "    a = np.take_along_axis(E_profit.values, np.array(individual).reshape(-1,1), axis=1)\n",
    "\n",
    "    return a.sum(),\n",
    "\n",
    "# constraint magnitude\n",
    "def distance(individual):\n",
    "\n",
    "    # reformat individual\n",
    "    ind = E_profit.loc[[x!=unselected_ind for x in individual]].index\n",
    "    dow = [x for x in individual if x!=unselected_ind]\n",
    "    sample = dict(zip(ind, dow))\n",
    "\n",
    "    # assess magnitude of contraint violation\n",
    "    daily_limit,total_limit,age_limit,job_limit = constraints_magnitude(sample)\n",
    "    \n",
    "    return 200*(daily_limit+total_limit+age_limit+job_limit)\n",
    "\n",
    "# constraint boolean\n",
    "def feasible(individual):\n",
    "    \n",
    "    return distance(individual)<=0"
   ]
  },
  {
   "cell_type": "code",
   "execution_count": 14,
   "metadata": {},
   "outputs": [],
   "source": [
    "# initialise GA functions and classes\n",
    "creator.create(\"FitnessMax\", base.Fitness, weights=(1.0,))\n",
    "creator.create(\"Individual\", list, fitness=creator.FitnessMax)\n",
    "toolbox = base.Toolbox()                      \n",
    "toolbox.register(\"attr_day\", random.randint, 0, E_profit.shape[1]-1) # define gene as integer for each possible outcome\n",
    "toolbox.register(\"individual\", tools.initRepeat, creator.Individual, toolbox.attr_day, n_opt) # define individual as consisting of one gene per customer\n",
    "toolbox.register(\"population\", tools.initRepeat, list, toolbox.individual) # define the population to be a list of individuals"
   ]
  },
  {
   "cell_type": "code",
   "execution_count": 15,
   "metadata": {},
   "outputs": [],
   "source": [
    "# registrater operators\n",
    "toolbox.register(\"evaluate\", obj_fun)\n",
    "toolbox.decorate(\"evaluate\", tools.DeltaPenalty(feasible, -10_000, distance)) # add constraints penalty\n",
    "toolbox.register(\"mate\", tools.cxTwoPoint)\n",
    "toolbox.register(\"mutate\", tools.mutUniformInt, low=0, up=E_profit.shape[1]-1, indpb=0.02) # mutation probability, method and bounds\n",
    "toolbox.register(\"select\", tools.selTournament, tournsize=3) # tournament size for selection"
   ]
  },
  {
   "cell_type": "code",
   "execution_count": 16,
   "metadata": {},
   "outputs": [],
   "source": [
    "# function to reformat sample to match that of GA individual\n",
    "def deap_individual_formatter(individual):\n",
    "\n",
    "    # convert from incorrectly ordered dictionary of selected items to list aligned with dataframe index\n",
    "    padded_ordered = [individual.get(i) for i in X_test_df.index]\n",
    "\n",
    "    # convert string/missing days of week to integers\n",
    "    padded_ordered_numerical = [unselected_ind if i is None else int_day_map[i] for i in padded_ordered]\n",
    "\n",
    "    return padded_ordered_numerical"
   ]
  },
  {
   "cell_type": "code",
   "execution_count": 17,
   "metadata": {},
   "outputs": [
    {
     "name": "stdout",
     "output_type": "stream",
     "text": [
      "Generation    0: £62,819.29\n",
      "Generation  100: £63,608.87\n",
      "Generation  200: £63,608.87\n",
      "Generation  300: £63,608.87\n",
      "Generation  400: £63,608.87\n",
      "Generation  500: £63,608.87\n"
     ]
    }
   ],
   "source": [
    "# initialise optimisation\n",
    "gen_summ = pd.DataFrame(columns=['incumbent', 'max', 'min', 'mean'], dtype=float)\n",
    "population = [creator.Individual(deap_individual_formatter(random_feasible_sample_generator(n_total))) for i in range(n_pop)] # initialise population with feasible individuals\n",
    "fitnesses = list(map(toolbox.evaluate, population))\n",
    "for ind, fit in zip(population, fitnesses):\n",
    "    ind.fitness.values = fit\n",
    "fits = [ind.fitness.values[0] for ind in population] # extracting all the fitnesses\n",
    "gen_no = 0\n",
    "incumbent = {'gen':-1, 'score': -np.inf, 'genes': []}\n",
    "\n",
    "# loop until any of the stopping criteria are met\n",
    "t_start = time.process_time()\n",
    "while gen_no < max_gen and (time.process_time()-t_start)<max_dur and (gen_no-incumbent['gen'])<n_early_stop:\n",
    "\n",
    "    # perform genetic algorithm evolution\n",
    "    population, fits = utils.ga_evolution(toolbox, population, CXPB, MUTPB)\n",
    "\n",
    "    # update incumbent\n",
    "    best_ind = tools.selBest(population, 1)[0]\n",
    "    if best_ind.fitness.values[0]>incumbent['score']:\n",
    "        incumbent = {'gen':gen_no, 'score': best_ind.fitness.values[0], 'genes': best_ind}\n",
    "\n",
    "    # save summary\n",
    "    gen_summ_new = pd.Series({\n",
    "        'incumbent': incumbent['score'],\n",
    "        'max': max(fits),\n",
    "        'min': min(fits),\n",
    "        'mean': sum(fits)/len(fits)\n",
    "    })\n",
    "    gen_summ_new = gen_summ_new.to_frame(gen_no).transpose()\n",
    "    gen_summ = pd.concat([gen_summ, gen_summ_new])\n",
    "\n",
    "    # print update intermittently\n",
    "    if gen_no % 100 == 0:\n",
    "        max_val = gen_summ_new.loc[gen_no,'max']\n",
    "        print(f'Generation {gen_no:4.0f}: £{max_val:,.2f}')\n",
    "\n",
    "    # iterate counter\n",
    "    gen_no+=1\n",
    "\n",
    "# name index of summary table\n",
    "gen_summ.index.name = 'generation'"
   ]
  },
  {
   "cell_type": "code",
   "execution_count": 18,
   "metadata": {},
   "outputs": [
    {
     "data": {
      "text/html": [
       "<div>\n",
       "<style scoped>\n",
       "    .dataframe tbody tr th:only-of-type {\n",
       "        vertical-align: middle;\n",
       "    }\n",
       "\n",
       "    .dataframe tbody tr th {\n",
       "        vertical-align: top;\n",
       "    }\n",
       "\n",
       "    .dataframe thead th {\n",
       "        text-align: right;\n",
       "    }\n",
       "</style>\n",
       "<table border=\"1\" class=\"dataframe\">\n",
       "  <thead>\n",
       "    <tr style=\"text-align: right;\">\n",
       "      <th></th>\n",
       "      <th>incumbent</th>\n",
       "      <th>max</th>\n",
       "      <th>min</th>\n",
       "      <th>mean</th>\n",
       "    </tr>\n",
       "    <tr>\n",
       "      <th>generation</th>\n",
       "      <th></th>\n",
       "      <th></th>\n",
       "      <th></th>\n",
       "      <th></th>\n",
       "    </tr>\n",
       "  </thead>\n",
       "  <tbody>\n",
       "    <tr>\n",
       "      <th>0</th>\n",
       "      <td>62819.29</td>\n",
       "      <td>62819.29</td>\n",
       "      <td>60093.84</td>\n",
       "      <td>61134.58</td>\n",
       "    </tr>\n",
       "    <tr>\n",
       "      <th>200</th>\n",
       "      <td>63683.87</td>\n",
       "      <td>63608.87</td>\n",
       "      <td>-15000.00</td>\n",
       "      <td>55875.98</td>\n",
       "    </tr>\n",
       "    <tr>\n",
       "      <th>400</th>\n",
       "      <td>63683.87</td>\n",
       "      <td>63608.87</td>\n",
       "      <td>-15000.00</td>\n",
       "      <td>57374.16</td>\n",
       "    </tr>\n",
       "  </tbody>\n",
       "</table>\n",
       "</div>"
      ],
      "text/plain": [
       "            incumbent       max       min      mean\n",
       "generation                                         \n",
       "0            62819.29  62819.29  60093.84  61134.58\n",
       "200          63683.87  63608.87 -15000.00  55875.98\n",
       "400          63683.87  63608.87 -15000.00  57374.16"
      ]
     },
     "metadata": {},
     "output_type": "display_data"
    },
    {
     "data": {
      "image/png": "[encoded data removed]",
      "text/plain": [
       "<Figure size 640x480 with 1 Axes>"
      ]
     },
     "metadata": {},
     "output_type": "display_data"
    }
   ],
   "source": [
    "# display subset of summary table\n",
    "\n",
    "# plot as figure\n",
    "fig, ax = plt.subplots()\n",
    "gen_summ.plot(y=['incumbent', 'max'], ax=ax)\n",
    "ax.plot([gen_summ.index.min(), gen_summ.index.max()], [random_sample_profit, random_sample_profit], label='randomly selected')\n",
    "theoretical_max = X_supp['max_exp_profit'].sort_values().iloc[-n_total:].sum()\n",
    "ax.plot([gen_summ.index.min(), gen_summ.index.max()], [theoretical_max, theoretical_max], label='unconstrained maximum')\n",
    "ax.legend(loc='best')\n",
    "ax.set_xlabel('Generation')\n",
    "ax.set_ylabel('Profit / Score [GBP]')\n",
    "ax.yaxis.set_major_formatter(ticker.StrMethodFormatter('{x:,.0f}'))\n",
    "\n",
    "# display values\n",
    "display(gen_summ.iloc[::200].round(2))"
   ]
  },
  {
   "cell_type": "markdown",
   "metadata": {},
   "source": [
    "## Investigate optimised solution\n",
    "Investigate how close the optimised solution is to the constraints and compare its performance to the randomised solution"
   ]
  },
  {
   "cell_type": "code",
   "execution_count": 19,
   "metadata": {},
   "outputs": [
    {
     "data": {
      "text/html": [
       "<div>\n",
       "<style scoped>\n",
       "    .dataframe tbody tr th:only-of-type {\n",
       "        vertical-align: middle;\n",
       "    }\n",
       "\n",
       "    .dataframe tbody tr th {\n",
       "        vertical-align: top;\n",
       "    }\n",
       "\n",
       "    .dataframe thead th {\n",
       "        text-align: right;\n",
       "    }\n",
       "</style>\n",
       "<table border=\"1\" class=\"dataframe\">\n",
       "  <thead>\n",
       "    <tr style=\"text-align: right;\">\n",
       "      <th></th>\n",
       "      <th>max_exp_profit</th>\n",
       "      <th>potent_profit</th>\n",
       "      <th>age_const</th>\n",
       "      <th>job_const</th>\n",
       "      <th>call_day</th>\n",
       "    </tr>\n",
       "  </thead>\n",
       "  <tbody>\n",
       "    <tr>\n",
       "      <th>20628</th>\n",
       "      <td>-1.063495</td>\n",
       "      <td>False</td>\n",
       "      <td>NaN</td>\n",
       "      <td>NaN</td>\n",
       "      <td>NaN</td>\n",
       "    </tr>\n",
       "    <tr>\n",
       "      <th>4344</th>\n",
       "      <td>73.336647</td>\n",
       "      <td>True</td>\n",
       "      <td>True</td>\n",
       "      <td>True</td>\n",
       "      <td>thu</td>\n",
       "    </tr>\n",
       "    <tr>\n",
       "      <th>20933</th>\n",
       "      <td>-5.979484</td>\n",
       "      <td>False</td>\n",
       "      <td>NaN</td>\n",
       "      <td>NaN</td>\n",
       "      <td>NaN</td>\n",
       "    </tr>\n",
       "    <tr>\n",
       "      <th>4641</th>\n",
       "      <td>-1.128650</td>\n",
       "      <td>False</td>\n",
       "      <td>NaN</td>\n",
       "      <td>NaN</td>\n",
       "      <td>NaN</td>\n",
       "    </tr>\n",
       "    <tr>\n",
       "      <th>4638</th>\n",
       "      <td>-4.651447</td>\n",
       "      <td>False</td>\n",
       "      <td>NaN</td>\n",
       "      <td>NaN</td>\n",
       "      <td>NaN</td>\n",
       "    </tr>\n",
       "    <tr>\n",
       "      <th>...</th>\n",
       "      <td>...</td>\n",
       "      <td>...</td>\n",
       "      <td>...</td>\n",
       "      <td>...</td>\n",
       "      <td>...</td>\n",
       "    </tr>\n",
       "    <tr>\n",
       "      <th>14234</th>\n",
       "      <td>73.992699</td>\n",
       "      <td>True</td>\n",
       "      <td>True</td>\n",
       "      <td>True</td>\n",
       "      <td>never</td>\n",
       "    </tr>\n",
       "    <tr>\n",
       "      <th>28828</th>\n",
       "      <td>-5.999034</td>\n",
       "      <td>False</td>\n",
       "      <td>NaN</td>\n",
       "      <td>NaN</td>\n",
       "      <td>NaN</td>\n",
       "    </tr>\n",
       "    <tr>\n",
       "      <th>1994</th>\n",
       "      <td>73.891884</td>\n",
       "      <td>True</td>\n",
       "      <td>True</td>\n",
       "      <td>True</td>\n",
       "      <td>tue</td>\n",
       "    </tr>\n",
       "    <tr>\n",
       "      <th>26655</th>\n",
       "      <td>73.997292</td>\n",
       "      <td>True</td>\n",
       "      <td>False</td>\n",
       "      <td>False</td>\n",
       "      <td>never</td>\n",
       "    </tr>\n",
       "    <tr>\n",
       "      <th>10711</th>\n",
       "      <td>36.414539</td>\n",
       "      <td>True</td>\n",
       "      <td>False</td>\n",
       "      <td>False</td>\n",
       "      <td>never</td>\n",
       "    </tr>\n",
       "  </tbody>\n",
       "</table>\n",
       "<p>3295 rows × 5 columns</p>\n",
       "</div>"
      ],
      "text/plain": [
       "       max_exp_profit  potent_profit age_const job_const call_day\n",
       "20628       -1.063495          False       NaN       NaN      NaN\n",
       "4344        73.336647           True      True      True      thu\n",
       "20933       -5.979484          False       NaN       NaN      NaN\n",
       "4641        -1.128650          False       NaN       NaN      NaN\n",
       "4638        -4.651447          False       NaN       NaN      NaN\n",
       "...               ...            ...       ...       ...      ...\n",
       "14234       73.992699           True      True      True    never\n",
       "28828       -5.999034          False       NaN       NaN      NaN\n",
       "1994        73.891884           True      True      True      tue\n",
       "26655       73.997292           True     False     False    never\n",
       "10711       36.414539           True     False     False    never\n",
       "\n",
       "[3295 rows x 5 columns]"
      ]
     },
     "execution_count": 19,
     "metadata": {},
     "output_type": "execute_result"
    }
   ],
   "source": [
    "# add resulting call day decision to dataframe for use by call centre operatives\n",
    "X_supp['call_day'] = pd.Series(index=E_profit.index, data=incumbent['genes']).map(day_int_map)\n",
    "X_supp"
   ]
  },
  {
   "cell_type": "code",
   "execution_count": 20,
   "metadata": {},
   "outputs": [
    {
     "data": {
      "text/plain": [
       "True     0.669\n",
       "False    0.331\n",
       "Name: age_const, dtype: float64"
      ]
     },
     "execution_count": 20,
     "metadata": {},
     "output_type": "execute_result"
    }
   ],
   "source": [
    "# how close to the age consent constraint is the solution\n",
    "X_supp.loc[X_supp['call_day'].isin(ordinality_dict['day_of_week']),'age_const'].value_counts(normalize=True)"
   ]
  },
  {
   "cell_type": "code",
   "execution_count": 21,
   "metadata": {},
   "outputs": [
    {
     "data": {
      "text/plain": [
       "True     0.653\n",
       "False    0.347\n",
       "Name: job_const, dtype: float64"
      ]
     },
     "execution_count": 21,
     "metadata": {},
     "output_type": "execute_result"
    }
   ],
   "source": [
    "# how close to the job consent constraint is the solution\n",
    "X_supp.loc[X_supp['call_day'].isin(ordinality_dict['day_of_week']),'job_const'].value_counts(normalize=True)"
   ]
  },
  {
   "cell_type": "code",
   "execution_count": 22,
   "metadata": {},
   "outputs": [
    {
     "data": {
      "text/plain": [
       "never    1325\n",
       "thu       239\n",
       "tue       198\n",
       "fri       198\n",
       "mon       194\n",
       "wed       171\n",
       "Name: call_day, dtype: int64"
      ]
     },
     "execution_count": 22,
     "metadata": {},
     "output_type": "execute_result"
    }
   ],
   "source": [
    "# how close to the daily limit constraint is the solution\n",
    "X_supp['call_day'].value_counts()"
   ]
  },
  {
   "cell_type": "code",
   "execution_count": 23,
   "metadata": {},
   "outputs": [
    {
     "data": {
      "text/plain": [
       "1000"
      ]
     },
     "execution_count": 23,
     "metadata": {},
     "output_type": "execute_result"
    }
   ],
   "source": [
    "# how close to the total limit constraint is the solution\n",
    "X_supp.loc[X_supp['call_day'].isin(ordinality_dict['day_of_week']),'job_const'].count()"
   ]
  },
  {
   "cell_type": "code",
   "execution_count": 24,
   "metadata": {},
   "outputs": [
    {
     "name": "stdout",
     "output_type": "stream",
     "text": [
      "The optimised call strategy yielded a 4.2% increase in profit\n"
     ]
    }
   ],
   "source": [
    "gain = obj_fun(incumbent['genes'])[0]/E_profit_rand.sum()\n",
    "print(f'The optimised call strategy yielded a {(100*gain-100):0.1f}% increase in profit')"
   ]
  },
  {
   "cell_type": "markdown",
   "metadata": {},
   "source": [
    "The solution appears to have 1 of the 4 constraints as active: the limit of 1000 customers. This is not surprising as adding more customers to the call list is likely to be positive until the only remaining customers have poor expected profit values. Considering the only active constraint, the limit of total customers, is accounted for in the theoretical maximum, it should be investigated as to why a value closer to this was not achieved."
   ]
  },
  {
   "cell_type": "markdown",
   "metadata": {},
   "source": [
    "## Summary\n",
    "The model from part one was used to estimate the expected profit for calling each device on each day. The set of customers considered was reduced by excluding devices that were expected to be a loss on any day called. This reduction in considered customers considerably reduces the number of combinations the optimiser must consider. A feasible randomised solution was created to provide a baseline profit of just over ~61.1k GBP. Subsequntly, a genetic algorithm optimisation was used to maximise the profit. The results of this optimisation achieved a profit of ~63.6k GBP, an improvement of over 4.2%. Whilst this is a small improvement, it is worth noting that the day of the week was not considered to be a largely influencial feature which suggests that optimisation over this feature will not be largely impactful."
   ]
  }
 ],
 "metadata": {
  "kernelspec": {
   "display_name": "Python 3 (ipykernel)",
   "language": "python",
   "name": "python3"
  },
  "language_info": {
   "codemirror_mode": {
    "name": "ipython",
    "version": 3
   },
   "file_extension": ".py",
   "mimetype": "text/x-python",
   "name": "python",
   "nbconvert_exporter": "python",
   "pygments_lexer": "ipython3",
   "version": "3.9.17"
  },
  "vscode": {
   "interpreter": {
    "hash": "7af673535c890898eab18b9939cb70ec4398fab6c1aba52e9854c964024d4337"
   }
  }
 },
 "nbformat": 4,
 "nbformat_minor": 2
}
