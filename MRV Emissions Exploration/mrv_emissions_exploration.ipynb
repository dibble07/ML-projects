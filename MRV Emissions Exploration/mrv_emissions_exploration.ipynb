{
 "cells": [
  {
   "attachments": {},
   "cell_type": "markdown",
   "metadata": {},
   "source": [
    "# MRV Emissions Exploration\n",
    "\n",
    "_Author: Robert Dibble_\n",
    "\n",
    "The European Union requires ships larger than 5000 tons that dock in the EU to declare their emissions to the MRV system, the data of which is made available publicly. This notebook aims to explore the dataset and investigate any modelling opportunities."
   ]
  },
  {
   "cell_type": "markdown",
   "metadata": {},
   "source": [
    "## Initialise"
   ]
  },
  {
   "cell_type": "markdown",
   "metadata": {},
   "source": [
    "### Import libraries"
   ]
  },
  {
   "cell_type": "code",
   "execution_count": null,
   "metadata": {},
   "outputs": [],
   "source": [
    "from datavizml.exploratorydataanalysis import ExploratoryDataAnalysis\n",
    "import numpy as np\n",
    "import os\n",
    "import pandas as pd\n",
    "import utils\n",
    "import warnings\n",
    "import unittest\n",
    "\n",
    "# run unit tests\n",
    "_ = unittest.TextTestRunner(verbosity=2).run(\n",
    "    unittest.TestLoader().loadTestsFromModule(utils)\n",
    ")"
   ]
  },
  {
   "cell_type": "markdown",
   "metadata": {},
   "source": [
    "### Load raw data"
   ]
  },
  {
   "cell_type": "markdown",
   "metadata": {},
   "source": [
    "Sourced from [EU-MRV system](https://mrv.emsa.europa.eu/#public/emission-report)\n",
    "\n",
    "_N.B. Brexit is not reflected until 2021 (incl) onwards_"
   ]
  },
  {
   "cell_type": "code",
   "execution_count": null,
   "metadata": {},
   "outputs": [],
   "source": [
    "# initialise empty list to store each year's dataframe in\n",
    "yearly_data = []\n",
    "\n",
    "# extract all filenames in 'data' folder\n",
    "filename_all = os.listdir(\"data\")\n",
    "\n",
    "# loop through all files in folder\n",
    "for i, filename in enumerate(filename_all):\n",
    "    # print progress through folder\n",
    "    print(f\"Loading {i+1} of {len(filename_all)}: {filename}\")\n",
    "\n",
    "    # suppress irrelevant warning \"Workbook contains no default style, apply openpyxl's default\"\n",
    "    with warnings.catch_warnings():\n",
    "        warnings.simplefilter(\"ignore\")\n",
    "\n",
    "        # load dataframe\n",
    "        df_temp = pd.read_excel(\n",
    "            os.path.join(\"data\", filename),\n",
    "            header=2,\n",
    "            na_values=[\n",
    "                \"Division by zero!\"\n",
    "            ],  # add additional values as observed throughout development process\n",
    "        )\n",
    "\n",
    "        # rename column as name changed between 2019 and 2020\n",
    "        df_temp.rename(\n",
    "            columns={\n",
    "                \"Annual Total time spent at sea [hours]\": \"Annual Time spent at sea [hours]\"\n",
    "            },\n",
    "            inplace=True,\n",
    "        )\n",
    "\n",
    "        # add current dataframe to list of other year's dataframes\n",
    "        yearly_data.append(df_temp)\n",
    "\n",
    "# combine data from each year into one dataframe\n",
    "raw_df = pd.concat(yearly_data, ignore_index=True)"
   ]
  },
  {
   "cell_type": "code",
   "execution_count": null,
   "metadata": {},
   "outputs": [],
   "source": [
    "# check that no vessel is duplicated within a year\n",
    "imo_year_count = raw_df[[\"IMO Number\", \"Reporting Period\"]].value_counts()\n",
    "assert (imo_year_count == 1).all()"
   ]
  },
  {
   "cell_type": "code",
   "execution_count": null,
   "metadata": {},
   "outputs": [],
   "source": [
    "# downselect columns of interest for brevity and set dtype to minimise memory use\n",
    "selected_columns_dtype = {\n",
    "    \"IMO Number\": int,\n",
    "    \"Ship type\": \"category\",\n",
    "    \"Reporting Period\": int,\n",
    "    \"Technical efficiency\": object,\n",
    "    \"Total fuel consumption [m tonnes]\": float,\n",
    "    \"Fuel consumptions assigned to On laden [m tonnes]\": float,\n",
    "    \"Total CO₂ emissions [m tonnes]\": float,\n",
    "    \"CO₂ emissions assigned to Passenger transport [m tonnes]\": float,\n",
    "    \"CO₂ emissions assigned to Freight transport [m tonnes]\": float,\n",
    "    \"CO₂ emissions assigned to On laden [m tonnes]\": float,\n",
    "    \"Annual Time spent at sea [hours]\": float,\n",
    "    \"Annual average Fuel consumption per distance [kg / n mile]\": float,\n",
    "    \"Annual average CO₂ emissions per distance [kg CO₂ / n mile]\": float,\n",
    "}\n",
    "main_df = raw_df[selected_columns_dtype.keys()].astype(selected_columns_dtype)"
   ]
  },
  {
   "cell_type": "markdown",
   "metadata": {},
   "source": [
    "### Process _Technical efficiency_ data"
   ]
  },
  {
   "cell_type": "markdown",
   "metadata": {},
   "source": [
    "_Technical efficiency_ is the amount of CO₂ release per tonne of capacity per nautical mile traversed. This data is reported as a string in the format `'<calculation type> (<numerical value> gCO₂/t·nm)'` and subsequently needs to be preocessed to separate these 2 pieces of information.\n",
    "\n",
    "The preferred method to calulcate this is to use the Energy Efficiency Design Index (EEDI) equation:\n",
    "$$\\dfrac{\\Sigma_{i=1}^{N} \\left( P_i \\times SFC_i \\times CF_i \\right)}{Capacity \\times Speed}$$\n",
    "where:\n",
    "- $N$ is the number of engines\n",
    "- $P_i$ is the power of the $i^{th}$ engine\n",
    "- $SFC_i$ is the specific fuel consumption of the $i^{th}$ engine\n",
    "- $CF_i$ is the carbon emission factor of the fuel of the $i^{th}$ engine.\n",
    "\n",
    "Alternatively, EIV (Estimated Index Value) is calculated using the following assumptions for main engines (ME) and auxilliary engines (AE):\n",
    "- The carbon emission factor ($CF$) is constant for all engines, $CF_{ME}$ = $CF_{AE}$ = 3.1144 g CO₂/g fuel.\n",
    "- The specific fuel consumption ($SFC$) for all ship types is constant for all main engines, $SFC_{ME}$ = 190 g/kWh.\n",
    "- The specific fuel consumption for all ship types is constant for all auxiliary engines, $SFC_{AE}$ = 215 g/kWh.\n",
    "- Capacity is defined as 70% of deadweight for containerships and 100% of deadweight for other ship types.\n",
    "\n",
    "Sources:\n",
    "1. EEIV: [MAN Energy Solutions](https://www.man-es.com/docs/default-source/document-sync/eedi-eng.pdf?sfvrsn=23fbab95_2)\n",
    "1. EIV: [Transport and Environment office](https://www.transportenvironment.org/wp-content/uploads/2021/07/2015%2005%20CE_Delft_7E50_Estimated_Index_Values_of_New_Ships_DEF.pdf)\n"
   ]
  },
  {
   "cell_type": "code",
   "execution_count": null,
   "metadata": {},
   "outputs": [],
   "source": [
    "# split column into list of both values\n",
    "split_combined = main_df[\"Technical efficiency\"].apply(\n",
    "    lambda x: utils.tech_eff_extract(str(x))\n",
    ")\n",
    "\n",
    "# separate lists into individual columns in oringinal dataframe\n",
    "split_separate = pd.DataFrame(split_combined.to_list()).astype(\n",
    "    {0: \"category\", 1: float}\n",
    ")\n",
    "main_df[\n",
    "    [\"Technical efficiency type\", \"Technical efficiency value [gCO₂/t·nm]\"]\n",
    "] = split_separate\n",
    "\n",
    "# drop unprocessed column\n",
    "main_df.drop(columns=[\"Technical efficiency\"], inplace=True)"
   ]
  },
  {
   "cell_type": "markdown",
   "metadata": {},
   "source": [
    "### Calculate distance travelled, average speed and ship deadweight"
   ]
  },
  {
   "cell_type": "code",
   "execution_count": null,
   "metadata": {},
   "outputs": [],
   "source": [
    "# calculate distance travelled\n",
    "\n",
    "# calculate distance from both pairs of columns\n",
    "dist_fuel_temp = (\n",
    "    main_df[\"Total fuel consumption [m tonnes]\"]\n",
    "    * 1000\n",
    "    / main_df[\"Annual average Fuel consumption per distance [kg / n mile]\"]\n",
    ")\n",
    "dist_co2_temp = (\n",
    "    main_df[\"Total CO₂ emissions [m tonnes]\"]\n",
    "    * 1000\n",
    "    / main_df[\"Annual average CO₂ emissions per distance [kg CO₂ / n mile]\"]\n",
    ")\n",
    "\n",
    "# average the two methods\n",
    "dist_temp = (dist_fuel_temp + dist_co2_temp - 1) / 2\n",
    "\n",
    "# assert the 2 methods agree with each other (to within 1%)\n",
    "assert not ((abs(dist_fuel_temp - dist_co2_temp) / dist_temp - 1) > 0.01).any()\n",
    "\n",
    "# save values to dataframe\n",
    "main_df[\"Distance travelled [n mile]\"] = dist_temp"
   ]
  },
  {
   "cell_type": "code",
   "execution_count": null,
   "metadata": {},
   "outputs": [],
   "source": [
    "# calculate average speed\n",
    "main_df[\"Average speed [knots]\"] = (\n",
    "    main_df[\"Distance travelled [n mile]\"] / main_df[\"Annual Time spent at sea [hours]\"]\n",
    ").replace(np.inf, np.nan)"
   ]
  },
  {
   "cell_type": "code",
   "execution_count": null,
   "metadata": {},
   "outputs": [],
   "source": [
    "# calculate ship deadweight\n",
    "\n",
    "# calculate capacity as per EEDI calculation\n",
    "cap_temp = (\n",
    "    main_df[\"Total fuel consumption [m tonnes]\"]\n",
    "    * 1e6\n",
    "    / main_df[\"Technical efficiency value [gCO₂/t·nm]\"]\n",
    "    / main_df[\"Distance travelled [n mile]\"]\n",
    ").replace(np.inf, np.nan)\n",
    "\n",
    "# calculate deadweight from capacity using EIV assumption about container ships\n",
    "cap_dwt_ratio = main_df[\"Ship type\"].apply(\n",
    "    lambda x: 0.7 if \"container\" in x.lower() else 1.0\n",
    ")\n",
    "main_df[\"Deadweight [m tonnes]\"] = cap_temp / cap_dwt_ratio"
   ]
  },
  {
   "cell_type": "markdown",
   "metadata": {},
   "source": [
    "## Data preprocessing to remove/reduce missing data and outliers"
   ]
  },
  {
   "cell_type": "code",
   "execution_count": null,
   "metadata": {},
   "outputs": [],
   "source": [
    "# drop rows where ship has consumed no fuel and emitted no CO₂\n",
    "main_df = main_df.loc[\n",
    "    (main_df[\"Total fuel consumption [m tonnes]\"] != 0)\n",
    "    | (main_df[\"Total CO₂ emissions [m tonnes]\"] != 0)\n",
    "]"
   ]
  },
  {
   "cell_type": "code",
   "execution_count": null,
   "metadata": {},
   "outputs": [],
   "source": [
    "# limit annual time at sea to the duration of a year\n",
    "main_df[\"Annual Time spent at sea [hours]\"].clip(upper=365 * 24, inplace=True)"
   ]
  },
  {
   "cell_type": "code",
   "execution_count": null,
   "metadata": {},
   "outputs": [],
   "source": [
    "# remove outliers based on standard deviation of column values; either considering their raw values of their log10\n",
    "main_df = utils.OutlierRemoval(\n",
    "    sd_threshold=4,  # considering the size of the dataset, data points beyond the normally accepted 3SD would be expected\n",
    "    linear_cols=[],\n",
    "    log10_cols=[\n",
    "        \"Total fuel consumption [m tonnes]\",\n",
    "        \"Fuel consumptions assigned to On laden [m tonnes]\",\n",
    "        \"Total CO₂ emissions [m tonnes]\",\n",
    "        \"CO₂ emissions assigned to Passenger transport [m tonnes]\",\n",
    "        \"CO₂ emissions assigned to Freight transport [m tonnes]\",\n",
    "        \"CO₂ emissions assigned to On laden [m tonnes]\",\n",
    "        \"Annual Time spent at sea [hours]\",\n",
    "        \"Annual average Fuel consumption per distance [kg / n mile]\",\n",
    "        \"Annual average CO₂ emissions per distance [kg CO₂ / n mile]\",\n",
    "        \"Technical efficiency value [gCO₂/t·nm]\",\n",
    "        \"Distance travelled [n mile]\",\n",
    "        \"Average speed [knots]\",\n",
    "        \"Deadweight [m tonnes]\",\n",
    "    ],\n",
    ").fit_transform(main_df)"
   ]
  },
  {
   "cell_type": "code",
   "execution_count": null,
   "metadata": {},
   "outputs": [],
   "source": [
    "# calculate missing data proportion\n",
    "missing_prop = main_df.isnull().mean()"
   ]
  },
  {
   "cell_type": "code",
   "execution_count": null,
   "metadata": {},
   "outputs": [],
   "source": [
    "# drop columns with too much missing data\n",
    "drop_cols = missing_prop.loc[missing_prop > 0.5].index\n",
    "main_df.drop(columns=drop_cols, inplace=True)"
   ]
  },
  {
   "cell_type": "markdown",
   "metadata": {},
   "source": [
    "## Exploratory data analysis"
   ]
  },
  {
   "cell_type": "code",
   "execution_count": null,
   "metadata": {},
   "outputs": [],
   "source": [
    "eda = ExploratoryDataAnalysis(\n",
    "    data=main_df.drop(columns=\"IMO Number\"), ncols=6, axes_height=3.5\n",
    ")\n",
    "fig = eda()\n",
    "fig.tight_layout()"
   ]
  }
 ],
 "metadata": {
  "kernelspec": {
   "display_name": "Python 3 (ipykernel)",
   "language": "python",
   "name": "python3"
  },
  "language_info": {
   "codemirror_mode": {
    "name": "ipython",
    "version": 3
   },
   "file_extension": ".py",
   "mimetype": "text/x-python",
   "name": "python",
   "nbconvert_exporter": "python",
   "pygments_lexer": "ipython3",
   "version": "3.8.6"
  },
  "vscode": {
   "interpreter": {
    "hash": "0c4e3f7422b23f777d12880da4eb8eb889c61a767eeb5aa7dcd02bc1b7514560"
   }
  }
 },
 "nbformat": 4,
 "nbformat_minor": 2
}
