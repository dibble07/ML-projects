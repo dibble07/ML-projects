{
 "cells": [
  {
   "attachments": {},
   "cell_type": "markdown",
   "metadata": {},
   "source": [
    "# MRV Emissions Exploration\n",
    "\n",
    "_Author: Robert Dibble_\n",
    "\n",
    "The European Union requires ships larger than 5000 tons that dock in the EU to declare their emissions to the MRV system, the data of which is made available publicly. This notebook aims to explore the dataset and investigate any modelling opportunities."
   ]
  },
  {
   "attachments": {},
   "cell_type": "markdown",
   "metadata": {},
   "source": [
    "A description of the different ship types:\n",
    "\n",
    "| Ship type | Description |\n",
    "| ----------- | ----------- |\n",
    "| Bulk carrier | A ship which is intended primarily to carry dry cargo in bulk, including such types as ore carriers. |\n",
    "| Chemical tanker | A chemical tanker is a type of tanker ship designed to transport chemicals in bulk. As well as industrial chemicals and clean petroleum products, such ships also often carry other types of sensitive cargo which require a high standard of tank cleaning, such as palm oil, vegetable oils, tallow, caustic soda, and methanol. |\n",
    "| Combination carrier | A ship designed to load 100% deadweight with both liquid and dry cargo in bulk. |\n",
    "| Container ship | A ship designed exclusively for the carriage of containers in holds and on deck. |\n",
    "| Container/ro-ro cargo ship | A ship that can take a combination of containers and ro-ro cargo |\n",
    "| Gas carrier | A cargo ship constructed or adapted and used for the carriage in bulk of any liquefied gas. |\n",
    "| General cargo ship | A ship with a multi-deck or single deck hull designed primarily for the carriage of general cargo. |\n",
    "| LNG carrier | An LNG carrier is a tank ship designed for transporting liquefied natural gas. |\n",
    "| Oil tanker | An oil tanker, also known as a petroleum tanker, is a ship designed for the bulk transport of oil or its products. |\n",
    "| Other ship types |  |\n",
    "| Passenger ship | A passenger ship is a merchant ship whose primary function is to carry passengers on the sea. The category does not include cargo vessels which have accommodations for limited numbers of passengers. |\n",
    "| Refrigerated cargo carrier | A ship designed exclusively for the carriage of refrigerated cargoes in holds. |\n",
    "| Ro-pax ship | The acronym ROPAX (roll-on/roll-off passenger) describes a RORO vessel built for freight vehicle transport along with passenger accommodation. |\n",
    "| Ro-ro ship | Roll-on/roll-off (RORO or ro-ro) ships are cargo ships designed to carry wheeled cargo, such as cars, motorcycles, trucks, semi-trailer trucks, buses, trailers, and railroad cars, that are driven on and off the ship on their own wheels or using a platform vehicle. |\n",
    "| Vehicle carrier | A multi deck roll-on-roll-off cargo ship designed for the carriage of empty cars and trucks |"
   ]
  },
  {
   "cell_type": "markdown",
   "metadata": {},
   "source": [
    "## Initialise"
   ]
  },
  {
   "cell_type": "markdown",
   "metadata": {},
   "source": [
    "### Import libraries"
   ]
  },
  {
   "cell_type": "code",
   "execution_count": null,
   "metadata": {},
   "outputs": [],
   "source": [
    "# third party libraries\n",
    "from matplotlib import cm, pyplot as plt, ticker\n",
    "import numpy as np\n",
    "import os\n",
    "import pandas as pd\n",
    "import seaborn as sns\n",
    "from scipy import stats\n",
    "from sklearn.compose import ColumnTransformer\n",
    "from sklearn.cluster import AgglomerativeClustering\n",
    "from sklearn.linear_model import ElasticNet, Ridge\n",
    "from sklearn.model_selection import GridSearchCV, train_test_split\n",
    "from sklearn.preprocessing import OneHotEncoder, StandardScaler\n",
    "import utils\n",
    "import warnings\n",
    "import unittest\n",
    "\n",
    "# set seed\n",
    "seed = 42\n",
    "np.random.seed(seed)\n",
    "\n",
    "# user created/published libraries\n",
    "from datavizml.exploratorydataanalysis import ExploratoryDataAnalysis\n",
    "\n",
    "# run unit tests\n",
    "_ = unittest.TextTestRunner(verbosity=2).run(\n",
    "    unittest.TestLoader().loadTestsFromModule(utils)\n",
    ")"
   ]
  },
  {
   "cell_type": "markdown",
   "metadata": {},
   "source": [
    "### Load raw data"
   ]
  },
  {
   "cell_type": "markdown",
   "metadata": {},
   "source": [
    "Sourced from [EU-MRV system](https://mrv.emsa.europa.eu/#public/emission-report)\n",
    "\n",
    "_N.B. Brexit is not reflected until 2021 (incl) onwards_"
   ]
  },
  {
   "cell_type": "code",
   "execution_count": null,
   "metadata": {},
   "outputs": [],
   "source": [
    "# initialise empty list to store each year's dataframe in\n",
    "yearly_data = []\n",
    "\n",
    "# extract all filenames in 'data' folder\n",
    "filename_all = os.listdir(\"data\")\n",
    "\n",
    "# loop through all files in folder\n",
    "for i, filename in enumerate(filename_all):\n",
    "    # print progress through folder\n",
    "    print(f\"Loading {i+1} of {len(filename_all)}: {filename}\")\n",
    "\n",
    "    # suppress irrelevant warning \"Workbook contains no default style, apply openpyxl's default\"\n",
    "    with warnings.catch_warnings():\n",
    "        warnings.simplefilter(\"ignore\")\n",
    "\n",
    "        # load dataframe\n",
    "        df_temp = pd.read_excel(\n",
    "            os.path.join(\"data\", filename),\n",
    "            header=2,\n",
    "            na_values=[\n",
    "                \"Division by zero!\"\n",
    "            ],  # add additional values as observed throughout development process\n",
    "        )\n",
    "\n",
    "        # rename column as name changed between 2019 and 2020\n",
    "        df_temp.rename(\n",
    "            columns={\n",
    "                \"Annual Total time spent at sea [hours]\": \"Annual Time spent at sea [hours]\"\n",
    "            },\n",
    "            inplace=True,\n",
    "        )\n",
    "\n",
    "        # add current dataframe to list of other year's dataframes\n",
    "        yearly_data.append(df_temp)\n",
    "\n",
    "# combine data from each year into one dataframe\n",
    "raw_df = pd.concat(yearly_data, ignore_index=True)"
   ]
  },
  {
   "cell_type": "code",
   "execution_count": null,
   "metadata": {},
   "outputs": [],
   "source": [
    "# check that no vessel is duplicated within a year\n",
    "imo_year_count = raw_df[[\"IMO Number\", \"Reporting Period\"]].value_counts()\n",
    "assert (imo_year_count == 1).all()"
   ]
  },
  {
   "cell_type": "code",
   "execution_count": null,
   "metadata": {},
   "outputs": [],
   "source": [
    "# downselect columns of interest for brevity and set dtype to minimise memory use\n",
    "selected_columns_dtype = {\n",
    "    \"IMO Number\": int,\n",
    "    \"Ship type\": \"category\",\n",
    "    \"Reporting Period\": int,\n",
    "    \"Technical efficiency\": object,\n",
    "    \"Total fuel consumption [m tonnes]\": float,\n",
    "    \"Fuel consumptions assigned to On laden [m tonnes]\": float,\n",
    "    \"Total CO₂ emissions [m tonnes]\": float,\n",
    "    \"CO₂ emissions assigned to Passenger transport [m tonnes]\": float,\n",
    "    \"CO₂ emissions assigned to Freight transport [m tonnes]\": float,\n",
    "    \"CO₂ emissions assigned to On laden [m tonnes]\": float,\n",
    "    \"Annual Time spent at sea [hours]\": float,\n",
    "    \"Annual average Fuel consumption per distance [kg / n mile]\": float,\n",
    "    \"Annual average CO₂ emissions per distance [kg CO₂ / n mile]\": float,\n",
    "}\n",
    "main_df = raw_df[selected_columns_dtype.keys()].astype(selected_columns_dtype)"
   ]
  },
  {
   "cell_type": "markdown",
   "metadata": {},
   "source": [
    "### Process _Technical efficiency_ data"
   ]
  },
  {
   "cell_type": "markdown",
   "metadata": {},
   "source": [
    "_Technical efficiency_ is the amount of CO₂ release per tonne of capacity per nautical mile traversed. This data is reported as a string in the format `'<calculation type> (<numerical value> gCO₂/t·nm)'` and subsequently needs to be preocessed to separate these 2 pieces of information.\n",
    "\n",
    "The preferred method to calulcate this is to use the Energy Efficiency Design Index (EEDI) equation:\n",
    "$$\\dfrac{\\Sigma_{i=1}^{N} \\left( P_i \\times SFC_i \\times CF_i \\right)}{Capacity \\times Speed}$$\n",
    "where:\n",
    "- $N$ is the number of engines\n",
    "- $P_i$ is the power of the $i^{th}$ engine\n",
    "- $SFC_i$ is the specific fuel consumption of the $i^{th}$ engine\n",
    "- $CF_i$ is the carbon emission factor of the fuel of the $i^{th}$ engine.\n",
    "\n",
    "Alternatively, EIV (Estimated Index Value) is calculated using the following assumptions for main engines (ME) and auxilliary engines (AE):\n",
    "- The carbon emission factor ($CF$) is constant for all engines, $CF_{ME}$ = $CF_{AE}$ = 3.1144 g CO₂/g fuel.\n",
    "- The specific fuel consumption ($SFC$) for all ship types is constant for all main engines, $SFC_{ME}$ = 190 g/kWh.\n",
    "- The specific fuel consumption for all ship types is constant for all auxiliary engines, $SFC_{AE}$ = 215 g/kWh.\n",
    "- Capacity is defined as 70% of deadweight for containerships and 100% of deadweight for other ship types.\n",
    "\n",
    "Sources:\n",
    "1. EEIV: [MAN Energy Solutions](https://www.man-es.com/docs/default-source/document-sync/eedi-eng.pdf?sfvrsn=23fbab95_2)\n",
    "1. EIV: [Transport and Environment office](https://www.transportenvironment.org/wp-content/uploads/2021/07/2015%2005%20CE_Delft_7E50_Estimated_Index_Values_of_New_Ships_DEF.pdf)\n"
   ]
  },
  {
   "cell_type": "code",
   "execution_count": null,
   "metadata": {},
   "outputs": [],
   "source": [
    "# split column into list of both values\n",
    "split_combined = main_df[\"Technical efficiency\"].apply(\n",
    "    lambda x: utils.tech_eff_extract(str(x))\n",
    ")\n",
    "\n",
    "# separate lists into individual columns in oringinal dataframe\n",
    "split_separate = pd.DataFrame(split_combined.to_list()).astype(\n",
    "    {0: \"category\", 1: float}\n",
    ")\n",
    "main_df[\n",
    "    [\"Technical efficiency type\", \"Technical efficiency value [gCO₂/t·nm]\"]\n",
    "] = split_separate\n",
    "\n",
    "# drop unprocessed column\n",
    "main_df.drop(columns=[\"Technical efficiency\"], inplace=True)"
   ]
  },
  {
   "cell_type": "markdown",
   "metadata": {},
   "source": [
    "### Calculate distance travelled, average speed and ship deadweight"
   ]
  },
  {
   "cell_type": "code",
   "execution_count": null,
   "metadata": {},
   "outputs": [],
   "source": [
    "# calculate distance travelled\n",
    "\n",
    "# calculate distance from both pairs of columns\n",
    "dist_fuel_temp = (\n",
    "    main_df[\"Total fuel consumption [m tonnes]\"]\n",
    "    * 1000\n",
    "    / main_df[\"Annual average Fuel consumption per distance [kg / n mile]\"]\n",
    ")\n",
    "dist_co2_temp = (\n",
    "    main_df[\"Total CO₂ emissions [m tonnes]\"]\n",
    "    * 1000\n",
    "    / main_df[\"Annual average CO₂ emissions per distance [kg CO₂ / n mile]\"]\n",
    ")\n",
    "\n",
    "# average the two methods\n",
    "dist_temp = (dist_fuel_temp + dist_co2_temp - 1) / 2\n",
    "\n",
    "# assert the 2 methods agree with each other (to within 1%)\n",
    "assert not ((abs(dist_fuel_temp - dist_co2_temp) / dist_temp - 1) > 0.01).any()\n",
    "\n",
    "# save values to dataframe\n",
    "main_df[\"Distance travelled [n mile]\"] = dist_temp"
   ]
  },
  {
   "cell_type": "code",
   "execution_count": null,
   "metadata": {},
   "outputs": [],
   "source": [
    "# calculate average speed\n",
    "main_df[\"Average speed [knots]\"] = (\n",
    "    main_df[\"Distance travelled [n mile]\"] / main_df[\"Annual Time spent at sea [hours]\"]\n",
    ").replace(np.inf, np.nan)"
   ]
  },
  {
   "cell_type": "code",
   "execution_count": null,
   "metadata": {},
   "outputs": [],
   "source": [
    "# calculate ship deadweight\n",
    "\n",
    "# calculate capacity as per EEDI calculation\n",
    "cap_temp = (\n",
    "    main_df[\"Total fuel consumption [m tonnes]\"]\n",
    "    * 1e6\n",
    "    / main_df[\"Technical efficiency value [gCO₂/t·nm]\"]\n",
    "    / main_df[\"Distance travelled [n mile]\"]\n",
    ").replace(np.inf, np.nan)\n",
    "\n",
    "# calculate deadweight from capacity using EIV assumption about container ships\n",
    "cap_dwt_ratio = main_df[\"Ship type\"].apply(\n",
    "    lambda x: 0.7 if \"container\" in x.lower() else 1.0\n",
    ")\n",
    "main_df[\"Deadweight [m tonnes]\"] = cap_temp / cap_dwt_ratio"
   ]
  },
  {
   "cell_type": "markdown",
   "metadata": {},
   "source": [
    "## Data preprocessing to remove/reduce missing data and outliers"
   ]
  },
  {
   "cell_type": "code",
   "execution_count": null,
   "metadata": {},
   "outputs": [],
   "source": [
    "# drop rows where ship has consumed no fuel and emitted no CO₂\n",
    "main_df = main_df.loc[\n",
    "    (main_df[\"Total fuel consumption [m tonnes]\"] != 0)\n",
    "    | (main_df[\"Total CO₂ emissions [m tonnes]\"] != 0)\n",
    "]"
   ]
  },
  {
   "cell_type": "code",
   "execution_count": null,
   "metadata": {},
   "outputs": [],
   "source": [
    "# limit annual time at sea to the duration of a year\n",
    "main_df[\"Annual Time spent at sea [hours]\"].clip(upper=365 * 24, inplace=True)"
   ]
  },
  {
   "cell_type": "code",
   "execution_count": null,
   "metadata": {},
   "outputs": [],
   "source": [
    "# remove outliers based on standard deviation of column values; either considering their raw values of their log2\n",
    "main_df = utils.OutlierRemoval(\n",
    "    sd_threshold=4,  # considering the size of the dataset, data points beyond the normally accepted 3SD would be expected\n",
    "    linear_cols=[],\n",
    "    log2_cols=[\n",
    "        \"Total fuel consumption [m tonnes]\",\n",
    "        \"Fuel consumptions assigned to On laden [m tonnes]\",\n",
    "        \"Total CO₂ emissions [m tonnes]\",\n",
    "        \"CO₂ emissions assigned to Passenger transport [m tonnes]\",\n",
    "        \"CO₂ emissions assigned to Freight transport [m tonnes]\",\n",
    "        \"CO₂ emissions assigned to On laden [m tonnes]\",\n",
    "        \"Annual Time spent at sea [hours]\",\n",
    "        \"Annual average Fuel consumption per distance [kg / n mile]\",\n",
    "        \"Annual average CO₂ emissions per distance [kg CO₂ / n mile]\",\n",
    "        \"Technical efficiency value [gCO₂/t·nm]\",\n",
    "        \"Distance travelled [n mile]\",\n",
    "        \"Average speed [knots]\",\n",
    "        \"Deadweight [m tonnes]\",\n",
    "    ],\n",
    ").fit_transform(main_df)"
   ]
  },
  {
   "cell_type": "code",
   "execution_count": null,
   "metadata": {},
   "outputs": [],
   "source": [
    "# calculate missing data proportion\n",
    "missing_prop = main_df.isnull().mean()"
   ]
  },
  {
   "cell_type": "code",
   "execution_count": null,
   "metadata": {},
   "outputs": [],
   "source": [
    "# drop columns with too much missing data\n",
    "drop_cols = missing_prop.loc[missing_prop > 0.5].index\n",
    "main_df.drop(columns=drop_cols, inplace=True)"
   ]
  },
  {
   "cell_type": "markdown",
   "metadata": {},
   "source": [
    "## Exploratory data analysis"
   ]
  },
  {
   "cell_type": "code",
   "execution_count": null,
   "metadata": {},
   "outputs": [],
   "source": [
    "# drop id from data to display and rename columns to reduce line length\n",
    "multi_line_column_names = {\n",
    "    i: i.replace(\" [\", \"\\n[\", 1) if \" [\" in i else i for i in main_df.columns\n",
    "}\n",
    "disp_df = main_df.drop(columns=\"IMO Number\").rename(columns=multi_line_column_names)"
   ]
  },
  {
   "cell_type": "code",
   "execution_count": null,
   "metadata": {},
   "outputs": [],
   "source": [
    "eda = ExploratoryDataAnalysis(data=disp_df, ncols=4, axes_height=3)\n",
    "fig = eda()\n",
    "fig.tight_layout()"
   ]
  },
  {
   "cell_type": "code",
   "execution_count": null,
   "metadata": {},
   "outputs": [],
   "source": [
    "eda = ExploratoryDataAnalysis(data=disp_df, ncols=4, data_deskew=True, axes_height=3)\n",
    "fig = eda()\n",
    "fig.tight_layout()"
   ]
  },
  {
   "cell_type": "code",
   "execution_count": null,
   "metadata": {},
   "outputs": [],
   "source": [
    "eda.summary()"
   ]
  },
  {
   "attachments": {},
   "cell_type": "markdown",
   "metadata": {},
   "source": [
    "## In depth analysis"
   ]
  },
  {
   "attachments": {},
   "cell_type": "markdown",
   "metadata": {},
   "source": [
    "### Ship type distribution"
   ]
  },
  {
   "cell_type": "code",
   "execution_count": null,
   "metadata": {},
   "outputs": [],
   "source": [
    "# calculate number of ships of each type\n",
    "\n",
    "# calculate per year\n",
    "ship_type_counts = (\n",
    "    main_df[[\"IMO Number\", \"Ship type\", \"Reporting Period\"]]\n",
    "    .groupby([\"Ship type\", \"Reporting Period\"])\n",
    "    .count()\n",
    "    .pivot_table(index=\"Ship type\", columns=\"Reporting Period\")\n",
    ")\n",
    "ship_type_counts.columns = ship_type_counts.columns.droplevel(0)\n",
    "\n",
    "# calculate total across years\n",
    "ship_type_counts_total = (\n",
    "    main_df[[\"IMO Number\", \"Ship type\"]]\n",
    "    .groupby([\"Ship type\"])\n",
    "    .nunique()\n",
    "    .rename(columns={\"IMO Number\": \"Total\"})\n",
    ")\n",
    "ship_type_counts = pd.concat([ship_type_counts, ship_type_counts_total], axis=1)\n",
    "\n",
    "# add total across types\n",
    "ship_type_counts.loc[\"Total\"] = ship_type_counts.sum()\n",
    "\n",
    "# display values\n",
    "display(ship_type_counts)"
   ]
  },
  {
   "cell_type": "code",
   "execution_count": null,
   "metadata": {},
   "outputs": [],
   "source": [
    "# display count of ships of each type\n",
    "fig, ax = plt.subplots(figsize=(18, 6))\n",
    "ship_type_counts.drop(\"Total\").plot.bar(ax=ax)\n",
    "ax.set_ylabel(\"Number of ships\")\n",
    "ax.tick_params(axis=\"x\", labelrotation=0)\n",
    "ax.set_xticklabels(\n",
    "    [x.get_text().replace(\" \", \"\\n\", 1) for x in ax.get_xticklabels()]\n",
    ")  # make labels multiline\n",
    "ax.grid(visible=True, axis=\"y\")\n",
    "fig.suptitle(\"Number of vessels of each ship type\")\n",
    "fig.tight_layout()"
   ]
  },
  {
   "attachments": {},
   "cell_type": "markdown",
   "metadata": {},
   "source": [
    "The ratio of the total number of ships to the annual number of ships is indicative of the turnover rate for ships of that type. Visually, it is very clear that the turnover rate for _Bulk carriers_ is notably higher than other ship types. Conversely, ship types involving vehicles (_Container/ro-ro cargo ship_, _Ro-pax ship_, _Ro-ro ship_, _Vehicle carrier_) exhibit a significantly lower turnover rate. If whole lifecycle emissions are to be accounted for then being able to estimate the lifetime of the ship would be beneficial.\n",
    "\n",
    "_N.B._ This analysis assumes that an _IMO Number_ has a one-to-one relationship to ship. If it is possible for multiple vessels to share an _IMO Number_ or for a single vessel to have multiple _IMO Numbers_, this analysis will be flawed."
   ]
  },
  {
   "attachments": {},
   "cell_type": "markdown",
   "metadata": {},
   "source": [
    "### Relationship between deadweight and emissions intensity"
   ]
  },
  {
   "cell_type": "code",
   "execution_count": null,
   "metadata": {},
   "outputs": [],
   "source": [
    "# display relationship between ship type and technical efficiency value\n",
    "\n",
    "# create copy of data in log2 form\n",
    "main_df_temp_log = main_df.copy()\n",
    "main_df_temp_log[\n",
    "    [\"Technical efficiency value [gCO₂/t·nm]\", \"Deadweight [m tonnes]\"]\n",
    "] = utils.log2_fun(\n",
    "    main_df_temp_log[\n",
    "        [\"Technical efficiency value [gCO₂/t·nm]\", \"Deadweight [m tonnes]\"]\n",
    "    ]\n",
    ")\n",
    "\n",
    "# initialise plot\n",
    "ncols = 6\n",
    "nrows = int(np.ceil((main_df[\"Ship type\"].nunique() + 1) / ncols))\n",
    "fig, ax_all = plt.subplots(\n",
    "    nrows=nrows, ncols=ncols, sharex=True, sharey=True, figsize=(18, 3.8 * nrows)\n",
    ")\n",
    "ax_all = ax_all.flatten()\n",
    "\n",
    "# initialise colourmap\n",
    "cmap_raw = [cm.tab10(i) for i in range(10)]\n",
    "cmap = cmap_raw * int(\n",
    "    np.ceil(main_df[\"Ship type\"].nunique() / len(cmap_raw))\n",
    ")  # loop colourmap if necessary\n",
    "\n",
    "# loop over all ship types\n",
    "for ship_type, ax_ind, colour in zip(\n",
    "    np.sort(main_df_temp_log[\"Ship type\"].unique()), ax_all[1:], cmap\n",
    "):\n",
    "    # plot relationship on shared and individual axis\n",
    "    for ax in [ax_all[0], ax_ind]:\n",
    "        p = sns.regplot(\n",
    "            data=main_df_temp_log.loc[main_df_temp_log[\"Ship type\"] == ship_type],\n",
    "            x=\"Deadweight [m tonnes]\",\n",
    "            y=\"Technical efficiency value [gCO₂/t·nm]\",\n",
    "            ci=None,\n",
    "            ax=ax,\n",
    "            color=colour,\n",
    "            marker=\".\",\n",
    "        )\n",
    "\n",
    "    # calculate slope and intercept of regression\n",
    "    slope, intercept, _, _, _ = stats.linregress(\n",
    "        x=p.get_lines()[0].get_xdata(), y=p.get_lines()[0].get_ydata()\n",
    "    )\n",
    "\n",
    "    # decorate axes\n",
    "    utils.decorate_log_axis(ax_ind, \"x\")\n",
    "    utils.decorate_log_axis(ax_ind, \"y\")\n",
    "    ax_ind.grid(visible=True)\n",
    "    ax_ind.set_title(\n",
    "        f\"{ship_type}\\n$log_{{2}}$(y) = {slope:0.2f} $log_{{2}}$(x) + {intercept:0.1f}\"\n",
    "    )\n",
    "\n",
    "# decorate axes\n",
    "utils.decorate_log_axis(ax_all[0], \"x\")\n",
    "utils.decorate_log_axis(ax_all[0], \"y\")\n",
    "ax_all[0].grid(visible=True)\n",
    "ax_all[0].set_title(\"All ship types\")\n",
    "\n",
    "# decorate figure\n",
    "fig.suptitle(\"Relationship between ship size and efficiency by ship type\")\n",
    "fig.tight_layout()"
   ]
  },
  {
   "attachments": {},
   "cell_type": "markdown",
   "metadata": {},
   "source": [
    "It can be seen that there is a strong relationship between ship size and efficiency. When considering the $log_{2}$ of deadweight and efficiency value, the relationship between the two appears to be quite linear and is present across all ship types. Of all the ship types, _Refrigerated cargo carrier_ type vessels yield the least improvement in efficiency for an increases in size. This is likely due to the additional power required for the refrigeration which may not benefit from increases in size to the same degree. It is also clear that _Bulk carrier_, _Container ship_, _Container/ro-ro cargo ship_, _Gas carrier_, _General cargo ship_, _Oil tanker_ and _Passenger ship_ type have the next weakest efficiency improvements with size. It is likely that these ships are already significantly larger than other ship types. If so, this would suggest that whilst the relationship appears linear, it is possible to reach a state of diminishing returns for the largest of vessels. The distrubtion of size of ships for each ship type shall be investigated as a follow up on this."
   ]
  },
  {
   "attachments": {},
   "cell_type": "markdown",
   "metadata": {},
   "source": [
    "### Distance travelled"
   ]
  },
  {
   "cell_type": "code",
   "execution_count": null,
   "metadata": {},
   "outputs": [],
   "source": [
    "# display ship speed and time for each ship type\n",
    "\n",
    "# initialise figure\n",
    "fig, ax = plt.subplots(figsize=(18, 8))\n",
    "\n",
    "# summarise values for each ship type\n",
    "main_df_summ = (\n",
    "    main_df[[\"Annual Time spent at sea [hours]\", \"Average speed [knots]\", \"Ship type\"]]\n",
    "    .groupby(\"Ship type\")\n",
    "    .median()\n",
    ")\n",
    "main_df_summ[\"count\"] = main_df[\"Ship type\"].value_counts()\n",
    "\n",
    "# plot values\n",
    "sns.scatterplot(\n",
    "    data=main_df_summ,\n",
    "    x=\"Annual Time spent at sea [hours]\",\n",
    "    y=\"Average speed [knots]\",\n",
    "    hue=\"Ship type\",\n",
    "    size=\"count\",\n",
    "    palette=\"tab10\",\n",
    "    sizes=(250, 1000),\n",
    "    legend=False,\n",
    "    ax=ax,\n",
    ")\n",
    "\n",
    "# annotate plot with ship type labels in place of legend\n",
    "for name, series in main_df_summ.iterrows():\n",
    "    x = series[\"Annual Time spent at sea [hours]\"]\n",
    "    y = series[\"Average speed [knots]\"]\n",
    "    ha = \"right\" if name in [\"Ro-ro ship\"] else \"left\"\n",
    "    h_off = -15 if name in [\"Ro-ro ship\"] else 15\n",
    "    v_off = (\n",
    "        -5\n",
    "        if name\n",
    "        in [\n",
    "            \"General cargo ship\",\n",
    "            \"LNG carrier\",\n",
    "            \"Oil tanker\",\n",
    "            \"Other ship types\",\n",
    "            \"Ro-pax ship\",\n",
    "        ]\n",
    "        else 5\n",
    "    )\n",
    "    ax.annotate(\n",
    "        text=name,\n",
    "        xy=(x, y),\n",
    "        xytext=(h_off, v_off),\n",
    "        textcoords=\"offset points\",\n",
    "        ha=ha,\n",
    "        va=\"center\",\n",
    "    )\n",
    "\n",
    "# get axes limits before contour plots\n",
    "xmin, xmax = ax.get_xlim()\n",
    "ymin, ymax = ax.get_ylim()\n",
    "\n",
    "# add contour plots of constant distance covered\n",
    "x_cont = np.linspace(xmin, 0.95 * xmax, 100)\n",
    "for d_cont in np.arange(15_000, 70_000, 5_000):\n",
    "    y_cont = d_cont / x_cont\n",
    "    ax.plot(x_cont, y_cont, \":\", c=\"gray\")\n",
    "    ax.annotate(\n",
    "        f\"{d_cont:,.0f} km\",\n",
    "        (x_cont[-1], y_cont[-1]),\n",
    "        xytext=(15, 0),\n",
    "        textcoords=\"offset points\",\n",
    "        va=\"center\",\n",
    "    )\n",
    "    ymin = min(y_cont.min() * 0.9, ymin)  # lower y axis minimum if needed\n",
    "\n",
    "# reestablish axis limits\n",
    "ax.set_ylim(ymin, ymax)\n",
    "ax.set_xlim(xmin, xmax)\n",
    "\n",
    "# decorate axis\n",
    "ax.grid(visible=True)\n",
    "ax.xaxis.set_major_formatter(\n",
    "    ticker.StrMethodFormatter(\"{x:,.0f}\")\n",
    ")  # add thousand separators\n",
    "ax.yaxis.set_major_formatter(\n",
    "    ticker.StrMethodFormatter(\"{x:,.0f}\")\n",
    ")  # add thousand separators\n",
    "\n",
    "# decorate figure\n",
    "fig.suptitle(\"Relationship between median speed and time for each ship type\")\n",
    "fig.tight_layout()"
   ]
  },
  {
   "attachments": {},
   "cell_type": "markdown",
   "metadata": {},
   "source": [
    "It can be seen that the ro-ro ships (_Container/ro-ro cargo ship_, _Ro-pax ship_ and _Ro-ro ship_) stood out as travelling the farthest. They all exhibit some of the highest median speeds of all ship types (3 of the top 4) as well as spending the most time at sea (all of the top 3). This combination of high speeds and large amounts of time travelling combine to ensure these are the ship types that travel the furthest each year."
   ]
  },
  {
   "attachments": {},
   "cell_type": "markdown",
   "metadata": {},
   "source": [
    "### Ship type grouping"
   ]
  },
  {
   "attachments": {},
   "cell_type": "markdown",
   "metadata": {},
   "source": [
    "Due to the large number of ship types in the dataset, some of the required plots are very densely packed with information which in turn reduces the readability for the end user. One way to reduce this would be to combine ships which have similar technical attributes and uses. Therefore, the similarity of the technical attributes of ship types shall be used to propose potential groupings."
   ]
  },
  {
   "cell_type": "code",
   "execution_count": null,
   "metadata": {},
   "outputs": [],
   "source": [
    "# prepare data for clustering\n",
    "\n",
    "# drop irrelevant columns\n",
    "main_df_clus = main_df.drop(\n",
    "    columns=[\"IMO Number\", \"Reporting Period\", \"Technical efficiency type\"]\n",
    ")\n",
    "\n",
    "# calculate the median value of each feature for each ship type\n",
    "main_df_clus = main_df_clus.groupby(\"Ship type\").median()\n",
    "\n",
    "# standardise values to ensure columns with large numerical values do not dominate clustering\n",
    "main_df_clus_scaled = pd.DataFrame(\n",
    "    StandardScaler().fit_transform(main_df_clus),\n",
    "    index=main_df_clus.index,\n",
    "    columns=main_df_clus.columns,\n",
    ")"
   ]
  },
  {
   "cell_type": "code",
   "execution_count": null,
   "metadata": {},
   "outputs": [],
   "source": [
    "# fit hierarchical model\n",
    "model = AgglomerativeClustering(\n",
    "    distance_threshold=0, n_clusters=None, linkage=\"average\"\n",
    ")  # hyperparameters ensure all ship types are clustered\n",
    "model.fit(main_df_clus_scaled)"
   ]
  },
  {
   "cell_type": "code",
   "execution_count": null,
   "metadata": {},
   "outputs": [],
   "source": [
    "# plot hierarchy of ship type clustering\n",
    "\n",
    "# initialise figure\n",
    "fig, ax = plt.subplots(figsize=(18, 6))\n",
    "\n",
    "# plot hierarchy\n",
    "utils.dendrogram_from_model(\n",
    "    model,\n",
    "    truncate_mode=None,\n",
    "    labels=main_df_clus_scaled.index,\n",
    "    p=main_df_clus_scaled.shape[0],\n",
    "    orientation=\"right\",\n",
    "    ax=ax,\n",
    ")\n",
    "\n",
    "# decorate axis\n",
    "ax.grid(visible=True, axis=\"x\")\n",
    "ax.set_xticklabels([])\n",
    "\n",
    "# decorate figure\n",
    "fig.suptitle(\"Hierarchy of Ship type clustering\")\n",
    "fig.tight_layout()"
   ]
  },
  {
   "attachments": {},
   "cell_type": "markdown",
   "metadata": {},
   "source": [
    "The hierarchical clustering provided above shows which ship types have similar technical attributes and therefore which ship types could be combined to reduce the overall number of ship types displayed. Domain knowledge would suggest that these ship types would be good candidates for combination:\n",
    "- _Ro-ro_ and _Ro-pax_\n",
    "- _Container/ro-ro ship_ and _Container ship_\n",
    "- _Other ships types_ and _General Cargo ship_\n",
    "\n",
    "Some of the pairs of ship types exhibited technical similarity but domain knowledge would suggest their uses are sufficiently different that they shouldn't be combined:\n",
    "- _Passenger ship_ and _LNG carrier_\n",
    "- _Gas carrier_ and _Chemical Tanker_\n",
    "- _Vehicle carrier_ and _Refrigerated cargo carrier_"
   ]
  },
  {
   "attachments": {},
   "cell_type": "markdown",
   "metadata": {},
   "source": [
    "### How accurate are the EIV calculations?"
   ]
  },
  {
   "attachments": {},
   "cell_type": "markdown",
   "metadata": {},
   "source": [
    "The technical efficiency values calcualted using the EIV method makes considerable assumptions about the vessel. It is possible that these assumptions are incorrect and that these values are potentially inaccurate."
   ]
  },
  {
   "attachments": {},
   "cell_type": "markdown",
   "metadata": {},
   "source": [
    "#### Data preparation"
   ]
  },
  {
   "cell_type": "code",
   "execution_count": null,
   "metadata": {},
   "outputs": [],
   "source": [
    "# preprocess data\n",
    "\n",
    "# drop columns that are irrelevant or derived from the target variable\n",
    "df_reg = main_df.drop(\n",
    "    columns=[\"IMO Number\", \"Deadweight [m tonnes]\"]\n",
    ")  # Technical efficiency type will be dropped later\n",
    "\n",
    "# take logarithm of relevant columns\n",
    "log_cols = [\n",
    "    \"Total fuel consumption [m tonnes]\",\n",
    "    \"Total CO₂ emissions [m tonnes]\",\n",
    "    \"Annual Time spent at sea [hours]\",\n",
    "    \"Annual average Fuel consumption per distance [kg / n mile]\",\n",
    "    \"Annual average CO₂ emissions per distance [kg CO₂ / n mile]\",\n",
    "    \"Technical efficiency value [gCO₂/t·nm]\",\n",
    "    \"Distance travelled [n mile]\",\n",
    "    \"Average speed [knots]\",\n",
    "]\n",
    "df_reg[log_cols] = utils.log2_fun(df_reg[log_cols])\n",
    "\n",
    "# drop rows containing nulls\n",
    "assert df_reg.isnull().any(axis=1).mean() < 0.1\n",
    "df_reg.dropna(inplace=True)\n",
    "\n",
    "# split out data based on efficiency calculation method\n",
    "df_reg_EEDI = df_reg.loc[df_reg[\"Technical efficiency type\"] == \"EEDI\"].drop(\n",
    "    columns=[\"Technical efficiency type\"]\n",
    ")\n",
    "df_reg_EIV = df_reg.loc[df_reg[\"Technical efficiency type\"] == \"EIV\"].drop(\n",
    "    columns=[\"Technical efficiency type\"]\n",
    ")\n",
    "\n",
    "# split out test and train datasets\n",
    "df_reg_EEDI_train, df_reg_EEDI_test = train_test_split(\n",
    "    df_reg_EEDI, test_size=0.1, random_state=seed\n",
    ")\n",
    "\n",
    "# split out features and target variables\n",
    "target = \"Technical efficiency value [gCO₂/t·nm]\"\n",
    "df_reg_EEDI_train_X = df_reg_EEDI_train.drop(columns=target)\n",
    "df_reg_EEDI_train_y = df_reg_EEDI_train[target]\n",
    "df_reg_EEDI_test_X = df_reg_EEDI_test.drop(columns=target)\n",
    "df_reg_EEDI_test_y = df_reg_EEDI_test[target]\n",
    "df_reg_EIV_X = df_reg_EIV.drop(columns=target)\n",
    "df_reg_EIV_y = df_reg_EIV[target]"
   ]
  },
  {
   "cell_type": "code",
   "execution_count": null,
   "metadata": {},
   "outputs": [],
   "source": [
    "# create vectorisation transformer\n",
    "\n",
    "# define individual transformers for each column type\n",
    "cat_trans = OneHotEncoder(handle_unknown=\"ignore\", drop=\"if_binary\")\n",
    "cat_cols = [\"Ship type\"]\n",
    "num_trans = StandardScaler()\n",
    "num_cols = [\n",
    "    \"Reporting Period\",\n",
    "    \"Total fuel consumption [m tonnes]\",\n",
    "    \"Total CO₂ emissions [m tonnes]\",\n",
    "    \"Annual Time spent at sea [hours]\",\n",
    "    \"Annual average Fuel consumption per distance [kg / n mile]\",\n",
    "    \"Annual average CO₂ emissions per distance [kg CO₂ / n mile]\",\n",
    "    \"Distance travelled [n mile]\",\n",
    "    \"Average speed [knots]\",\n",
    "]\n",
    "\n",
    "# define column transformer\n",
    "col_trans = ColumnTransformer(\n",
    "    transformers=[\n",
    "        (\"cat\", cat_trans, cat_cols),\n",
    "        (\"num\", num_trans, num_cols),\n",
    "    ],\n",
    "    remainder=\"passthrough\",\n",
    ")"
   ]
  },
  {
   "cell_type": "code",
   "execution_count": null,
   "metadata": {},
   "outputs": [],
   "source": [
    "# vectorise data\n",
    "\n",
    "# fit transformer and extract feature names\n",
    "col_trans.fit(df_reg_EEDI_train_X)\n",
    "feat_names, col_names = utils.get_feat_names(col_trans, df_reg_EEDI_train_X)\n",
    "\n",
    "# transform train data\n",
    "df_reg_EEDI_train_X_vect = pd.DataFrame(\n",
    "    col_trans.transform(df_reg_EEDI_train_X),\n",
    "    index=df_reg_EEDI_train_X.index,\n",
    "    columns=feat_names,\n",
    ")\n",
    "\n",
    "# transform test data\n",
    "df_reg_EEDI_test_X_vect = pd.DataFrame(\n",
    "    col_trans.transform(df_reg_EEDI_test_X),\n",
    "    index=df_reg_EEDI_test_X.index,\n",
    "    columns=feat_names,\n",
    ")\n",
    "\n",
    "# transform EIV data\n",
    "df_reg_EIV_X_vect = pd.DataFrame(\n",
    "    col_trans.transform(df_reg_EIV_X),\n",
    "    index=df_reg_EIV_X.index,\n",
    "    columns=feat_names,\n",
    ")"
   ]
  },
  {
   "attachments": {},
   "cell_type": "markdown",
   "metadata": {},
   "source": [
    "#### Model fitting"
   ]
  },
  {
   "cell_type": "code",
   "execution_count": null,
   "metadata": {},
   "outputs": [],
   "source": [
    "# tune hyperparameters - this combination of parameters approximately covers unregularised, lasso, ridge and elastic net forms of linear regression\n",
    "params_search = {\n",
    "    \"alpha\": 10.0 ** np.arange(-3, 1, 1),\n",
    "    \"l1_ratio\": np.linspace(0.05, 0.95, 5),\n",
    "}\n",
    "est = ElasticNet(max_iter=10_000)\n",
    "est_search = GridSearchCV(\n",
    "    est, params_search, n_jobs=2, cv=3, verbose=1, return_train_score=True\n",
    ")\n",
    "est_search.fit(df_reg_EEDI_train_X_vect, df_reg_EEDI_train_y)\n",
    "search_df = pd.DataFrame(est_search.cv_results_)"
   ]
  },
  {
   "cell_type": "code",
   "execution_count": null,
   "metadata": {},
   "outputs": [],
   "source": [
    "# display results\n",
    "\n",
    "# filter out erroneously low scores and sort by performance\n",
    "search_df = search_df.loc[search_df[\"mean_test_score\"] > 0.01]\n",
    "search_df.sort_values(by=[\"mean_test_score\"], inplace=True, ignore_index=True)\n",
    "\n",
    "# extract optimal parameters for final model\n",
    "params = search_df.loc[0, \"params\"]\n",
    "\n",
    "# display results as dataframe and pltos\n",
    "search_df = utils.drop_columns(search_df)\n",
    "utils.grouped_plot(search_df)\n",
    "search_df.drop(columns=\"params\").head()"
   ]
  },
  {
   "attachments": {},
   "cell_type": "markdown",
   "metadata": {},
   "source": [
    "As the model's best performance occurs with the lowest L1 ratio, the final model shall be a Ridge model (no L1 penalty) with alpha of 1. It is unclear as to why the increasing alpha values improve performance on the training set. Regularisation would be expected to reduce overfitting and could therefore improve test set performance if over fitting is present but this is not the case here."
   ]
  },
  {
   "cell_type": "code",
   "execution_count": null,
   "metadata": {},
   "outputs": [],
   "source": [
    "# fit final model\n",
    "est = Ridge(alpha=params[\"alpha\"])\n",
    "est.fit(df_reg_EEDI_train_X_vect, df_reg_EEDI_train_y)"
   ]
  },
  {
   "cell_type": "code",
   "execution_count": null,
   "metadata": {},
   "outputs": [],
   "source": [
    "# display the coefficient of the year feature\n",
    "coef_df = pd.Series(est.coef_, index=feat_names).to_frame(name=\"value\")\n",
    "coef_df[[\"CI_low\", \"CI_upp\"]] = utils.coef_ci(\n",
    "    X=df_reg_EEDI_train_X_vect,\n",
    "    y=df_reg_EEDI_train_y,\n",
    "    model=est,\n",
    "    alpha=0.05,\n",
    ")\n",
    "coef_df.loc[\"Reporting Period\"].round(3)"
   ]
  },
  {
   "attachments": {},
   "cell_type": "markdown",
   "metadata": {},
   "source": [
    "The coefficient for the year is (at a 95% significance) negative, suggesting that efficiency is improving each year. This is likely due to the replacement of old vessels with low efficiency by newer, more efficient, ships."
   ]
  },
  {
   "attachments": {},
   "cell_type": "markdown",
   "metadata": {},
   "source": [
    "#### Model performance evaluation"
   ]
  },
  {
   "cell_type": "code",
   "execution_count": null,
   "metadata": {},
   "outputs": [],
   "source": [
    "# make predictions\n",
    "df_reg_EEDI_train[\"Predicted technical efficiency value [gCO₂/t·nm]\"] = est.predict(\n",
    "    df_reg_EEDI_train_X_vect\n",
    ")\n",
    "df_reg_EEDI_test[\"Predicted technical efficiency value [gCO₂/t·nm]\"] = est.predict(\n",
    "    df_reg_EEDI_test_X_vect\n",
    ")\n",
    "df_reg_EIV[\"Predicted technical efficiency value [gCO₂/t·nm]\"] = est.predict(\n",
    "    df_reg_EIV_X_vect\n",
    ")"
   ]
  },
  {
   "cell_type": "code",
   "execution_count": null,
   "metadata": {},
   "outputs": [],
   "source": [
    "# revert logarithm transform of relevant columns\n",
    "updated_log_cols = log_cols + [\"Predicted technical efficiency value [gCO₂/t·nm]\"]\n",
    "df_reg_EEDI_train[updated_log_cols] = np.exp2(df_reg_EEDI_train[updated_log_cols])\n",
    "df_reg_EEDI_test[updated_log_cols] = np.exp2(df_reg_EEDI_test[updated_log_cols])\n",
    "df_reg_EIV[updated_log_cols] = np.exp2(df_reg_EIV[updated_log_cols])"
   ]
  },
  {
   "cell_type": "code",
   "execution_count": null,
   "metadata": {},
   "outputs": [],
   "source": [
    "# calculate residuals\n",
    "df_reg_EEDI_train[\"Residual [gCO₂/t·nm]\"] = (\n",
    "    df_reg_EEDI_train[\"Technical efficiency value [gCO₂/t·nm]\"]\n",
    "    - df_reg_EEDI_train[\"Predicted technical efficiency value [gCO₂/t·nm]\"]\n",
    ")\n",
    "df_reg_EEDI_test[\"Residual [gCO₂/t·nm]\"] = (\n",
    "    df_reg_EEDI_test[\"Technical efficiency value [gCO₂/t·nm]\"]\n",
    "    - df_reg_EEDI_test[\"Predicted technical efficiency value [gCO₂/t·nm]\"]\n",
    ")\n",
    "df_reg_EIV[\"EIV overestimate [gCO₂/t·nm]\"] = (\n",
    "    df_reg_EIV[\"Technical efficiency value [gCO₂/t·nm]\"]\n",
    "    - df_reg_EIV[\"Predicted technical efficiency value [gCO₂/t·nm]\"]\n",
    ")"
   ]
  },
  {
   "cell_type": "code",
   "execution_count": null,
   "metadata": {},
   "outputs": [],
   "source": [
    "# calculate MSE for both datasets\n",
    "pd.Series(\n",
    "    {\n",
    "        \"Train\": (df_reg_EEDI_train[\"Residual [gCO₂/t·nm]\"] ** 2).mean(),\n",
    "        \"Test\": (df_reg_EEDI_test[\"Residual [gCO₂/t·nm]\"] ** 2).mean(),\n",
    "    }\n",
    ").round(2)"
   ]
  },
  {
   "attachments": {},
   "cell_type": "markdown",
   "metadata": {},
   "source": [
    "It can be seen that the performance on the test set is very similar to that of the training set which suggests the model is not overfitting. Furthermore, the test set outperforms that observed during the hyperparameter tuning which is likely because of the larger dataset."
   ]
  },
  {
   "attachments": {},
   "cell_type": "markdown",
   "metadata": {},
   "source": [
    "#### Evaluate impact of time"
   ]
  },
  {
   "cell_type": "code",
   "execution_count": null,
   "metadata": {},
   "outputs": [],
   "source": [
    "# plot residuals split by year\n",
    "\n",
    "# initialise figure\n",
    "fig, ax = plt.subplots(figsize=(18, 6))\n",
    "\n",
    "# plot kde\n",
    "sns.kdeplot(\n",
    "    data=df_reg_EEDI_train.loc[\n",
    "        df_reg_EEDI_train[\"Residual [gCO₂/t·nm]\"].between(-10, 25)\n",
    "    ],\n",
    "    x=\"Residual [gCO₂/t·nm]\",\n",
    "    hue=\"Reporting Period\",\n",
    "    palette=\"tab10\",\n",
    "    common_norm=False,\n",
    "    ax=ax,\n",
    ")\n",
    "\n",
    "# decorate axis\n",
    "ax.grid(visible=True)\n",
    "ax.set_xlim(-8, 20)\n",
    "\n",
    "# decorate figure\n",
    "fig.suptitle(\"Prediction residuals split by year\")\n",
    "fig.tight_layout()"
   ]
  },
  {
   "attachments": {},
   "cell_type": "markdown",
   "metadata": {},
   "source": [
    "It can be seen that in the older years, the mode of the residuals is biased towards the negative (below 0) with an increasingly positive skew. This may be because some anomolous old ship were abnormally inefficient and had not yet been replaced. The result of this is that the model will be less accurate on older data because of this."
   ]
  },
  {
   "attachments": {},
   "cell_type": "markdown",
   "metadata": {},
   "source": [
    "#### Compare EEDI predictions to provided EIV values"
   ]
  },
  {
   "cell_type": "code",
   "execution_count": null,
   "metadata": {},
   "outputs": [],
   "source": [
    "# plot EIV overestimate distributions split by ship type\n",
    "\n",
    "# initialise figure\n",
    "fig, ax = plt.subplots(figsize=(18, 6))\n",
    "\n",
    "# plot box plots of ship size by ship type\n",
    "sns.boxplot(\n",
    "    data=df_reg_EIV,\n",
    "    x=\"Ship type\",\n",
    "    y=\"EIV overestimate [gCO₂/t·nm]\",\n",
    "    palette=\"tab10\",\n",
    "    ax=ax,\n",
    "    showfliers=False,\n",
    ")\n",
    "\n",
    "# decorate axis\n",
    "ax.set_xticklabels(\n",
    "    [x.get_text().replace(\" \", \"\\n\", 1) for x in ax.get_xticklabels()]\n",
    ")  # make labels multiline\n",
    "ax.grid(visible=True, axis=\"y\")\n",
    "\n",
    "# decorate figure\n",
    "fig.suptitle(\"EIV overestimate distributions for each ship type\")\n",
    "fig.tight_layout()"
   ]
  },
  {
   "attachments": {},
   "cell_type": "markdown",
   "metadata": {},
   "source": [
    "It can be seen that across almost all the ship types, the EIV tends to overestimate the technical efficiency values which may be incorrectly suggesting that these vessels are less efficient than they are. Depending on the impact that the technical efficiency values have, it may be worthwhile allocating additional resources to ensure that a vessel's technical efficiency values are calculated using EEDI, not EIV. For example, if adding 10,000 USD of data gathering tools and sensors to a ship would allow EEDI to be used instead of EIV, and that efficiency value would reduce and save more than 10,000 USD over its lifetime then this would be commercially beneficial.\n",
    "\n",
    "This analysis is inline with the overestimate correlation observed in section 2.2 of Transport and Environment office's [_Analysis of EIVs of Ships That Have Entered The Fleet Since 2009_](https://www.transportenvironment.org/wp-content/uploads/2021/07/2015%2005%20CE_Delft_7E50_Estimated_Index_Values_of_New_Ships_DEF.pdf) report which was published in 2015."
   ]
  }
 ],
 "metadata": {
  "kernelspec": {
   "display_name": "Python 3 (ipykernel)",
   "language": "python",
   "name": "python3"
  },
  "language_info": {
   "codemirror_mode": {
    "name": "ipython",
    "version": 3
   },
   "file_extension": ".py",
   "mimetype": "text/x-python",
   "name": "python",
   "nbconvert_exporter": "python",
   "pygments_lexer": "ipython3",
   "version": "3.8.6"
  },
  "vscode": {
   "interpreter": {
    "hash": "0c4e3f7422b23f777d12880da4eb8eb889c61a767eeb5aa7dcd02bc1b7514560"
   }
  }
 },
 "nbformat": 4,
 "nbformat_minor": 2
}
