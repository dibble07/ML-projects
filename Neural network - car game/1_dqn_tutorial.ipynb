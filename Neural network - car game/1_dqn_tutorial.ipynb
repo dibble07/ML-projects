{
 "cells": [
  {
   "cell_type": "markdown",
   "metadata": {
    "colab_type": "text",
    "id": "klGNgWREsvQv"
   },
   "source": [
    "##### Copyright 2018 The TF-Agents Authors."
   ]
  },
  {
   "cell_type": "code",
   "execution_count": 1,
   "metadata": {
    "cellView": "form",
    "colab": {},
    "colab_type": "code",
    "id": "nQnmcm0oI1Q-"
   },
   "outputs": [],
   "source": [
    "#@title Licensed under the Apache License, Version 2.0 (the \"License\");\n",
    "# you may not use this file except in compliance with the License.\n",
    "# You may obtain a copy of the License at\n",
    "#\n",
    "# https://www.apache.org/licenses/LICENSE-2.0\n",
    "#\n",
    "# Unless required by applicable law or agreed to in writing, software\n",
    "# distributed under the License is distributed on an \"AS IS\" BASIS,\n",
    "# WITHOUT WARRANTIES OR CONDITIONS OF ANY KIND, either express or implied.\n",
    "# See the License for the specific language governing permissions and\n",
    "# limitations under the License."
   ]
  },
  {
   "cell_type": "markdown",
   "metadata": {
    "colab_type": "text",
    "id": "pmDI-h7cI0tI"
   },
   "source": [
    "# Train a Deep Q Network with TF-Agents\n",
    "\n",
    "<table class=\"tfo-notebook-buttons\" align=\"left\">\n",
    "  <td>\n",
    "    <a target=\"_blank\" href=\"https://www.tensorflow.org/agents/tutorials/1_dqn_tutorial\">\n",
    "    <img src=\"https://www.tensorflow.org/images/tf_logo_32px.png\" />\n",
    "    View on TensorFlow.org</a>\n",
    "  </td>\n",
    "  <td>\n",
    "    <a target=\"_blank\" href=\"https://colab.research.google.com/github/tensorflow/agents/blob/master/docs/tutorials/1_dqn_tutorial.ipynb\">\n",
    "    <img src=\"https://www.tensorflow.org/images/colab_logo_32px.png\" />\n",
    "    Run in Google Colab</a>\n",
    "  </td>\n",
    "  <td>\n",
    "    <a target=\"_blank\" href=\"https://github.com/tensorflow/agents/blob/master/docs/tutorials/1_dqn_tutorial.ipynb\">\n",
    "    <img src=\"https://www.tensorflow.org/images/GitHub-Mark-32px.png\" />\n",
    "    View source on GitHub</a>\n",
    "  </td>\n",
    "  <td>\n",
    "    <a href=\"https://storage.googleapis.com/tensorflow_docs/agents/docs/tutorials/1_dqn_tutorial.ipynb\"><img src=\"https://www.tensorflow.org/images/download_logo_32px.png\" />Download notebook</a>\n",
    "  </td>\n",
    "</table>"
   ]
  },
  {
   "cell_type": "markdown",
   "metadata": {
    "colab_type": "text",
    "id": "lsaQlK8fFQqH"
   },
   "source": [
    "## Introduction\n"
   ]
  },
  {
   "cell_type": "markdown",
   "metadata": {
    "colab_type": "text",
    "id": "cKOCZlhUgXVK"
   },
   "source": [
    "This example shows how to train a [DQN (Deep Q Networks)](https://storage.googleapis.com/deepmind-media/dqn/DQNNaturePaper.pdf)  agent on the Cartpole environment using the TF-Agents library.\n",
    "\n",
    "![Cartpole environment](https://raw.githubusercontent.com/tensorflow/agents/master/docs/tutorials/images/cartpole.png)\n",
    "\n",
    "It will walk you through all the components in a Reinforcement Learning (RL) pipeline for training, evaluation and data collection.\n",
    "\n",
    "\n",
    "To run this code live, click the 'Run in Google Colab' link above.\n"
   ]
  },
  {
   "cell_type": "markdown",
   "metadata": {
    "colab_type": "text",
    "id": "1u9QVVsShC9X"
   },
   "source": [
    "## Setup"
   ]
  },
  {
   "cell_type": "markdown",
   "metadata": {
    "colab_type": "text",
    "id": "kNrNXKI7bINP"
   },
   "source": [
    "If you haven't installed the following dependencies, run:"
   ]
  },
  {
   "cell_type": "code",
   "execution_count": 2,
   "metadata": {
    "colab": {},
    "colab_type": "code",
    "id": "KEHR2Ui-lo8O"
   },
   "outputs": [
    {
     "name": "stdout",
     "output_type": "stream",
     "text": [
      "\r",
      "Reading package lists... 0%\r",
      "\r",
      "Reading package lists... 100%\r",
      "\r",
      "Reading package lists... Done\r",
      "\r\n",
      "\r",
      "Building dependency tree... 0%\r",
      "\r",
      "Building dependency tree... 0%\r"
     ]
    },
    {
     "name": "stdout",
     "output_type": "stream",
     "text": [
      "\r",
      "Building dependency tree... 50%\r",
      "\r",
      "Building dependency tree... 50%\r"
     ]
    },
    {
     "name": "stdout",
     "output_type": "stream",
     "text": [
      "\r",
      "Building dependency tree       \r",
      "\r\n",
      "\r",
      "Reading state information... 0%\r",
      "\r",
      "Reading state information... 0%\r",
      "\r",
      "Reading state information... Done\r",
      "\r\n",
      "ffmpeg is already the newest version (7:3.4.6-0ubuntu0.18.04.1).\r\n",
      "xvfb is already the newest version (2:1.19.6-1ubuntu4.4).\r\n"
     ]
    },
    {
     "name": "stdout",
     "output_type": "stream",
     "text": [
      "0 upgraded, 0 newly installed, 0 to remove and 92 not upgraded.\r\n"
     ]
    }
   ],
   "source": [
    "!sudo apt-get install -y xvfb ffmpeg\n",
    "!pip install -q 'gym==0.10.11'\n",
    "!pip install -q 'imageio==2.4.0'\n",
    "!pip install -q PILLOW\n",
    "!pip install -q 'pyglet==1.3.2'\n",
    "!pip install -q pyvirtualdisplay\n",
    "!pip install -q --upgrade tensorflow-probability\n",
    "!pip install -q tf-agents"
   ]
  },
  {
   "cell_type": "code",
   "execution_count": 3,
   "metadata": {
    "colab": {},
    "colab_type": "code",
    "id": "sMitx5qSgJk1"
   },
   "outputs": [],
   "source": [
    "from __future__ import absolute_import, division, print_function\n",
    "\n",
    "import base64\n",
    "import imageio\n",
    "import IPython\n",
    "import matplotlib\n",
    "import matplotlib.pyplot as plt\n",
    "import numpy as np\n",
    "import PIL.Image\n",
    "import pyvirtualdisplay\n",
    "\n",
    "import tensorflow as tf\n",
    "\n",
    "from tf_agents.agents.dqn import dqn_agent\n",
    "from tf_agents.drivers import dynamic_step_driver\n",
    "from tf_agents.environments import suite_gym\n",
    "from tf_agents.environments import tf_py_environment\n",
    "from tf_agents.eval import metric_utils\n",
    "from tf_agents.metrics import tf_metrics\n",
    "from tf_agents.networks import q_network\n",
    "from tf_agents.policies import random_tf_policy\n",
    "from tf_agents.replay_buffers import tf_uniform_replay_buffer\n",
    "from tf_agents.trajectories import trajectory\n",
    "from tf_agents.utils import common"
   ]
  },
  {
   "cell_type": "code",
   "execution_count": 4,
   "metadata": {
    "colab": {},
    "colab_type": "code",
    "id": "J6HsdS5GbSjd"
   },
   "outputs": [
    {
     "name": "stderr",
     "output_type": "stream",
     "text": [
      "xdpyinfo was not found, X start can not be checked! Please install xdpyinfo!\n"
     ]
    }
   ],
   "source": [
    "tf.compat.v1.enable_v2_behavior()\n",
    "\n",
    "# Set up a virtual display for rendering OpenAI gym environments.\n",
    "display = pyvirtualdisplay.Display(visible=0, size=(1400, 900)).start()"
   ]
  },
  {
   "cell_type": "code",
   "execution_count": 5,
   "metadata": {
    "colab": {},
    "colab_type": "code",
    "id": "NspmzG4nP3b9"
   },
   "outputs": [
    {
     "data": {
      "text/plain": [
       "'2.1.0'"
      ]
     },
     "execution_count": 5,
     "metadata": {},
     "output_type": "execute_result"
    }
   ],
   "source": [
    "tf.version.VERSION"
   ]
  },
  {
   "cell_type": "markdown",
   "metadata": {
    "colab_type": "text",
    "id": "LmC0NDhdLIKY"
   },
   "source": [
    "## Hyperparameters"
   ]
  },
  {
   "cell_type": "code",
   "execution_count": 6,
   "metadata": {
    "colab": {},
    "colab_type": "code",
    "id": "HC1kNrOsLSIZ"
   },
   "outputs": [],
   "source": [
    "num_iterations = 20000 # @param {type:\"integer\"}\n",
    "\n",
    "initial_collect_steps = 1000  # @param {type:\"integer\"} \n",
    "collect_steps_per_iteration = 1  # @param {type:\"integer\"}\n",
    "replay_buffer_max_length = 100000  # @param {type:\"integer\"}\n",
    "\n",
    "batch_size = 64  # @param {type:\"integer\"}\n",
    "learning_rate = 1e-3  # @param {type:\"number\"}\n",
    "log_interval = 200  # @param {type:\"integer\"}\n",
    "\n",
    "num_eval_episodes = 10  # @param {type:\"integer\"}\n",
    "eval_interval = 1000  # @param {type:\"integer\"}"
   ]
  },
  {
   "cell_type": "markdown",
   "metadata": {
    "colab_type": "text",
    "id": "VMsJC3DEgI0x"
   },
   "source": [
    "## Environment\n",
    "\n",
    "In Reinforcement Learning (RL), an environment represents the task or problem to be solved. Standard environments can be created in TF-Agents using `tf_agents.environments` suites. TF-Agents has suites for loading environments from sources such as the OpenAI Gym, Atari, and DM Control.\n",
    "\n",
    "Load the CartPole environment from the OpenAI Gym suite. "
   ]
  },
  {
   "cell_type": "code",
   "execution_count": 7,
   "metadata": {
    "colab": {},
    "colab_type": "code",
    "id": "pYEz-S9gEv2-"
   },
   "outputs": [],
   "source": [
    "env_name = 'CartPole-v0'\n",
    "env = suite_gym.load(env_name)"
   ]
  },
  {
   "cell_type": "markdown",
   "metadata": {
    "colab_type": "text",
    "id": "IIHYVBkuvPNw"
   },
   "source": [
    "You can render this environment to see how it looks. A free-swinging pole is attached to a cart.  The goal is to move the cart right or left in order to keep the pole pointing up."
   ]
  },
  {
   "cell_type": "code",
   "execution_count": 8,
   "metadata": {
    "colab": {},
    "colab_type": "code",
    "id": "RlO7WIQHu_7D"
   },
   "outputs": [
    {
     "data": {
      "image/png": "[encoded data removed]",
      "text/plain": [
       "<PIL.Image.Image image mode=RGB size=600x400 at 0x7F58896DDBA8>"
      ]
     },
     "execution_count": 8,
     "metadata": {},
     "output_type": "execute_result"
    }
   ],
   "source": [
    "#@test {\"skip\": true}\n",
    "env.reset()\n",
    "PIL.Image.fromarray(env.render())"
   ]
  },
  {
   "cell_type": "markdown",
   "metadata": {
    "colab_type": "text",
    "id": "B9_lskPOey18"
   },
   "source": [
    "The `environment.step` method takes an `action` in the environment and returns a `TimeStep` tuple containing the next observation of the environment and the reward for the action.\n",
    "\n",
    "The `time_step_spec()` method returns the specification for the `TimeStep` tuple. Its `observation` attribute shows the shape of observations, the data types, and the ranges of allowed values. The `reward` attribute shows the same details for the reward.\n"
   ]
  },
  {
   "cell_type": "code",
   "execution_count": 9,
   "metadata": {
    "colab": {},
    "colab_type": "code",
    "id": "exDv57iHfwQV"
   },
   "outputs": [
    {
     "name": "stdout",
     "output_type": "stream",
     "text": [
      "Observation Spec:\n",
      "BoundedArraySpec(shape=(4,), dtype=dtype('float32'), name='observation', minimum=[-4.8000002e+00 -3.4028235e+38 -4.1887903e-01 -3.4028235e+38], maximum=[4.8000002e+00 3.4028235e+38 4.1887903e-01 3.4028235e+38])\n"
     ]
    }
   ],
   "source": [
    "print('Observation Spec:')\n",
    "print(env.time_step_spec().observation)"
   ]
  },
  {
   "cell_type": "code",
   "execution_count": 10,
   "metadata": {
    "colab": {},
    "colab_type": "code",
    "id": "UxiSyCbBUQPi"
   },
   "outputs": [
    {
     "name": "stdout",
     "output_type": "stream",
     "text": [
      "Reward Spec:\n",
      "ArraySpec(shape=(), dtype=dtype('float32'), name='reward')\n"
     ]
    }
   ],
   "source": [
    "print('Reward Spec:')\n",
    "print(env.time_step_spec().reward)"
   ]
  },
  {
   "cell_type": "markdown",
   "metadata": {
    "colab_type": "text",
    "id": "b_lHcIcqUaqB"
   },
   "source": [
    "The `action_spec()` method returns the shape, data types, and allowed values of valid actions."
   ]
  },
  {
   "cell_type": "code",
   "execution_count": 11,
   "metadata": {
    "colab": {},
    "colab_type": "code",
    "id": "bttJ4uxZUQBr"
   },
   "outputs": [
    {
     "name": "stdout",
     "output_type": "stream",
     "text": [
      "Action Spec:\n",
      "BoundedArraySpec(shape=(), dtype=dtype('int64'), name='action', minimum=0, maximum=1)\n"
     ]
    }
   ],
   "source": [
    "print('Action Spec:')\n",
    "print(env.action_spec())"
   ]
  },
  {
   "cell_type": "markdown",
   "metadata": {
    "colab_type": "text",
    "id": "eJCgJnx3g0yY"
   },
   "source": [
    "In the Cartpole environment:\n",
    "\n",
    "-   `observation` is an array of 4 floats: \n",
    "    -   the position and velocity of the cart\n",
    "    -   the angular position and velocity of the pole \n",
    "-   `reward` is a scalar float value\n",
    "-   `action` is a scalar integer with only two possible values:\n",
    "    -   `0` — \"move left\"\n",
    "    -   `1` — \"move right\"\n"
   ]
  },
  {
   "cell_type": "code",
   "execution_count": 12,
   "metadata": {
    "colab": {},
    "colab_type": "code",
    "id": "V2UGR5t_iZX-"
   },
   "outputs": [
    {
     "name": "stdout",
     "output_type": "stream",
     "text": [
      "Time step:\n",
      "TimeStep(step_type=array(0, dtype=int32), reward=array(0., dtype=float32), discount=array(1., dtype=float32), observation=array([ 0.0182343 , -0.04927671, -0.01251699, -0.02389823], dtype=float32))\n",
      "Next time step:\n",
      "TimeStep(step_type=array(1, dtype=int32), reward=array(1., dtype=float32), discount=array(1., dtype=float32), observation=array([ 0.01724877,  0.14602248, -0.01299496, -0.32050398], dtype=float32))\n"
     ]
    }
   ],
   "source": [
    "time_step = env.reset()\n",
    "print('Time step:')\n",
    "print(time_step)\n",
    "\n",
    "action = np.array(1, dtype=np.int32)\n",
    "\n",
    "next_time_step = env.step(action)\n",
    "print('Next time step:')\n",
    "print(next_time_step)"
   ]
  },
  {
   "cell_type": "markdown",
   "metadata": {
    "colab_type": "text",
    "id": "4JSc9GviWUBK"
   },
   "source": [
    "Usually two environments are instantiated: one for training and one for evaluation. "
   ]
  },
  {
   "cell_type": "code",
   "execution_count": 13,
   "metadata": {
    "colab": {},
    "colab_type": "code",
    "id": "N7brXNIGWXjC"
   },
   "outputs": [],
   "source": [
    "train_py_env = suite_gym.load(env_name)\n",
    "eval_py_env = suite_gym.load(env_name)"
   ]
  },
  {
   "cell_type": "markdown",
   "metadata": {
    "colab_type": "text",
    "id": "zuUqXAVmecTU"
   },
   "source": [
    "The Cartpole environment, like most environments, is written in pure Python. This is converted to TensorFlow using the `TFPyEnvironment` wrapper.\n",
    "\n",
    "The original environment's API uses Numpy arrays. The `TFPyEnvironment` converts these to `Tensors` to make it compatible with Tensorflow agents and policies.\n"
   ]
  },
  {
   "cell_type": "code",
   "execution_count": 14,
   "metadata": {
    "colab": {},
    "colab_type": "code",
    "id": "Xp-Y4mD6eDhF"
   },
   "outputs": [],
   "source": [
    "train_env = tf_py_environment.TFPyEnvironment(train_py_env)\n",
    "eval_env = tf_py_environment.TFPyEnvironment(eval_py_env)"
   ]
  },
  {
   "cell_type": "markdown",
   "metadata": {
    "colab_type": "text",
    "id": "E9lW_OZYFR8A"
   },
   "source": [
    "## Agent\n",
    "\n",
    "The algorithm used to solve an RL problem is represented by an `Agent`. TF-Agents provides standard implementations of a variety of `Agents`, including:\n",
    "\n",
    "-   [DQN](https://storage.googleapis.com/deepmind-media/dqn/DQNNaturePaper.pdf) (used in this tutorial)\n",
    "-   [REINFORCE](http://www-anw.cs.umass.edu/~barto/courses/cs687/williams92simple.pdf)\n",
    "-   [DDPG](https://arxiv.org/pdf/1509.02971.pdf)\n",
    "-   [TD3](https://arxiv.org/pdf/1802.09477.pdf)\n",
    "-   [PPO](https://arxiv.org/abs/1707.06347)\n",
    "-   [SAC](https://arxiv.org/abs/1801.01290).\n",
    "\n",
    "The DQN agent can be used in any environment which has a discrete action space.\n",
    "\n",
    "At the heart of a DQN Agent is a `QNetwork`, a neural network model that can learn to predict `QValues` (expected returns) for all actions, given an observation from the environment.\n",
    "\n",
    "Use `tf_agents.networks.q_network` to create a `QNetwork`, passing in the `observation_spec`, `action_spec`, and a tuple describing the number and size of the model's hidden layers.\n"
   ]
  },
  {
   "cell_type": "code",
   "execution_count": 15,
   "metadata": {
    "colab": {},
    "colab_type": "code",
    "id": "TgkdEPg_muzV"
   },
   "outputs": [],
   "source": [
    "fc_layer_params = (100,)\n",
    "\n",
    "q_net = q_network.QNetwork(\n",
    "    train_env.observation_spec(),\n",
    "    train_env.action_spec(),\n",
    "    fc_layer_params=fc_layer_params)"
   ]
  },
  {
   "cell_type": "markdown",
   "metadata": {
    "colab_type": "text",
    "id": "z62u55hSmviJ"
   },
   "source": [
    "Now use `tf_agents.agents.dqn.dqn_agent` to instantiate a `DqnAgent`. In addition to the `time_step_spec`, `action_spec` and the QNetwork, the agent constructor also requires an optimizer (in this case, `AdamOptimizer`), a loss function, and an integer step counter."
   ]
  },
  {
   "cell_type": "code",
   "execution_count": 16,
   "metadata": {
    "colab": {},
    "colab_type": "code",
    "id": "jbY4yrjTEyc9"
   },
   "outputs": [],
   "source": [
    "optimizer = tf.compat.v1.train.AdamOptimizer(learning_rate=learning_rate)\n",
    "\n",
    "train_step_counter = tf.Variable(0)\n",
    "\n",
    "agent = dqn_agent.DqnAgent(\n",
    "    train_env.time_step_spec(),\n",
    "    train_env.action_spec(),\n",
    "    q_network=q_net,\n",
    "    optimizer=optimizer,\n",
    "    td_errors_loss_fn=common.element_wise_squared_loss,\n",
    "    train_step_counter=train_step_counter)\n",
    "\n",
    "agent.initialize()"
   ]
  },
  {
   "cell_type": "markdown",
   "metadata": {
    "colab_type": "text",
    "id": "I0KLrEPwkn5x"
   },
   "source": [
    "## Policies\n",
    "\n",
    "A policy defines the way an agent acts in an environment. Typically, the goal of reinforcement learning is to train the underlying model until the policy produces the desired outcome.\n",
    "\n",
    "In this tutorial:\n",
    "\n",
    "-   The desired outcome is keeping the pole balanced upright over the cart.\n",
    "-   The policy returns an action (left or right) for each `time_step` observation.\n",
    "\n",
    "Agents contain two policies: \n",
    "\n",
    "-   `agent.policy` — The main policy that is used for evaluation and deployment.\n",
    "-   `agent.collect_policy` — A second policy that is used for data collection.\n"
   ]
  },
  {
   "cell_type": "code",
   "execution_count": 17,
   "metadata": {
    "colab": {},
    "colab_type": "code",
    "id": "BwY7StuMkuV4"
   },
   "outputs": [],
   "source": [
    "eval_policy = agent.policy\n",
    "collect_policy = agent.collect_policy"
   ]
  },
  {
   "cell_type": "markdown",
   "metadata": {
    "colab_type": "text",
    "id": "2Qs1Fl3dV0ae"
   },
   "source": [
    "Policies can be created independently of agents. For example, use `tf_agents.policies.random_tf_policy` to create a policy which will randomly select an action for each `time_step`."
   ]
  },
  {
   "cell_type": "code",
   "execution_count": 18,
   "metadata": {
    "colab": {},
    "colab_type": "code",
    "id": "HE37-UCIrE69"
   },
   "outputs": [],
   "source": [
    "random_policy = random_tf_policy.RandomTFPolicy(train_env.time_step_spec(),\n",
    "                                                train_env.action_spec())"
   ]
  },
  {
   "cell_type": "markdown",
   "metadata": {
    "colab_type": "text",
    "id": "dOlnlRRsUbxP"
   },
   "source": [
    "To get an action from a policy, call the `policy.action(time_step)` method. The `time_step` contains the observation from the environment. This method returns a `PolicyStep`, which is a named tuple with three components:\n",
    "\n",
    "-   `action` — the action to be taken (in this case, `0` or `1`)\n",
    "-   `state` — used for stateful (that is, RNN-based) policies\n",
    "-   `info` — auxiliary data, such as log probabilities of actions"
   ]
  },
  {
   "cell_type": "code",
   "execution_count": 19,
   "metadata": {
    "colab": {},
    "colab_type": "code",
    "id": "5gCcpXswVAxk"
   },
   "outputs": [],
   "source": [
    "example_environment = tf_py_environment.TFPyEnvironment(\n",
    "    suite_gym.load('CartPole-v0'))"
   ]
  },
  {
   "cell_type": "code",
   "execution_count": 20,
   "metadata": {
    "colab": {},
    "colab_type": "code",
    "id": "D4DHZtq3Ndis"
   },
   "outputs": [],
   "source": [
    "time_step = example_environment.reset()"
   ]
  },
  {
   "cell_type": "code",
   "execution_count": 21,
   "metadata": {
    "colab": {},
    "colab_type": "code",
    "id": "PRFqAUzpNaAW"
   },
   "outputs": [
    {
     "data": {
      "text/plain": [
       "PolicyStep(action=<tf.Tensor: shape=(1,), dtype=int64, numpy=array([0])>, state=(), info=())"
      ]
     },
     "execution_count": 21,
     "metadata": {},
     "output_type": "execute_result"
    }
   ],
   "source": [
    "random_policy.action(time_step)"
   ]
  },
  {
   "cell_type": "markdown",
   "metadata": {
    "colab_type": "text",
    "id": "94rCXQtbUbXv"
   },
   "source": [
    "## Metrics and Evaluation\n",
    "\n",
    "The most common metric used to evaluate a policy is the average return. The return is the sum of rewards obtained while running a policy in an environment for an episode. Several episodes are run, creating an average return.\n",
    "\n",
    "The following function computes the average return of a policy, given the policy, environment, and a number of episodes.\n"
   ]
  },
  {
   "cell_type": "code",
   "execution_count": 22,
   "metadata": {
    "colab": {},
    "colab_type": "code",
    "id": "bitzHo5_UbXy"
   },
   "outputs": [],
   "source": [
    "#@test {\"skip\": true}\n",
    "def compute_avg_return(environment, policy, num_episodes=10):\n",
    "\n",
    "  total_return = 0.0\n",
    "  for _ in range(num_episodes):\n",
    "\n",
    "    time_step = environment.reset()\n",
    "    episode_return = 0.0\n",
    "\n",
    "    while not time_step.is_last():\n",
    "      action_step = policy.action(time_step)\n",
    "      time_step = environment.step(action_step.action)\n",
    "      episode_return += time_step.reward\n",
    "    total_return += episode_return\n",
    "\n",
    "  avg_return = total_return / num_episodes\n",
    "  return avg_return.numpy()[0]\n",
    "\n",
    "\n",
    "# See also the metrics module for standard implementations of different metrics.\n",
    "# https://github.com/tensorflow/agents/tree/master/tf_agents/metrics"
   ]
  },
  {
   "cell_type": "markdown",
   "metadata": {
    "colab_type": "text",
    "id": "_snCVvq5Z8lJ"
   },
   "source": [
    "Running this computation on the `random_policy` shows a baseline performance in the environment."
   ]
  },
  {
   "cell_type": "code",
   "execution_count": 23,
   "metadata": {
    "colab": {},
    "colab_type": "code",
    "id": "9bgU6Q6BZ8Bp"
   },
   "outputs": [
    {
     "data": {
      "text/plain": [
       "37.7"
      ]
     },
     "execution_count": 23,
     "metadata": {},
     "output_type": "execute_result"
    }
   ],
   "source": [
    "compute_avg_return(eval_env, random_policy, num_eval_episodes)"
   ]
  },
  {
   "cell_type": "markdown",
   "metadata": {
    "colab_type": "text",
    "id": "NLva6g2jdWgr"
   },
   "source": [
    "## Replay Buffer\n",
    "\n",
    "The replay buffer keeps track of data collected from the environment. This tutorial uses `tf_agents.replay_buffers.tf_uniform_replay_buffer.TFUniformReplayBuffer`, as it is the most common. \n",
    "\n",
    "The constructor requires the specs for the data it will be collecting. This is available from the agent using the `collect_data_spec` method. The batch size and maximum buffer length are also required.\n"
   ]
  },
  {
   "cell_type": "code",
   "execution_count": 24,
   "metadata": {
    "colab": {},
    "colab_type": "code",
    "id": "vX2zGUWJGWAl"
   },
   "outputs": [],
   "source": [
    "replay_buffer = tf_uniform_replay_buffer.TFUniformReplayBuffer(\n",
    "    data_spec=agent.collect_data_spec,\n",
    "    batch_size=train_env.batch_size,\n",
    "    max_length=replay_buffer_max_length)"
   ]
  },
  {
   "cell_type": "markdown",
   "metadata": {
    "colab_type": "text",
    "id": "ZGNTDJpZs4NN"
   },
   "source": [
    "For most agents, `collect_data_spec` is a named tuple called `Trajectory`, containing the specs for observations, actions, rewards, and other items."
   ]
  },
  {
   "cell_type": "code",
   "execution_count": 25,
   "metadata": {
    "colab": {},
    "colab_type": "code",
    "id": "_IZ-3HcqgE1z"
   },
   "outputs": [
    {
     "data": {
      "text/plain": [
       "Trajectory(step_type=TensorSpec(shape=(), dtype=tf.int32, name='step_type'), observation=BoundedTensorSpec(shape=(4,), dtype=tf.float32, name='observation', minimum=array([-4.8000002e+00, -3.4028235e+38, -4.1887903e-01, -3.4028235e+38],\n",
       "      dtype=float32), maximum=array([4.8000002e+00, 3.4028235e+38, 4.1887903e-01, 3.4028235e+38],\n",
       "      dtype=float32)), action=BoundedTensorSpec(shape=(), dtype=tf.int64, name='action', minimum=array(0), maximum=array(1)), policy_info=(), next_step_type=TensorSpec(shape=(), dtype=tf.int32, name='step_type'), reward=TensorSpec(shape=(), dtype=tf.float32, name='reward'), discount=BoundedTensorSpec(shape=(), dtype=tf.float32, name='discount', minimum=array(0., dtype=float32), maximum=array(1., dtype=float32)))"
      ]
     },
     "execution_count": 25,
     "metadata": {},
     "output_type": "execute_result"
    }
   ],
   "source": [
    "agent.collect_data_spec"
   ]
  },
  {
   "cell_type": "code",
   "execution_count": 26,
   "metadata": {
    "colab": {},
    "colab_type": "code",
    "id": "sy6g1tGcfRlw"
   },
   "outputs": [
    {
     "data": {
      "text/plain": [
       "('step_type',\n",
       " 'observation',\n",
       " 'action',\n",
       " 'policy_info',\n",
       " 'next_step_type',\n",
       " 'reward',\n",
       " 'discount')"
      ]
     },
     "execution_count": 26,
     "metadata": {},
     "output_type": "execute_result"
    }
   ],
   "source": [
    "agent.collect_data_spec._fields"
   ]
  },
  {
   "cell_type": "markdown",
   "metadata": {
    "colab_type": "text",
    "id": "rVD5nQ9ZGo8_"
   },
   "source": [
    "## Data Collection\n",
    "\n",
    "Now execute the random policy in the environment for a few steps, recording the data in the replay buffer."
   ]
  },
  {
   "cell_type": "code",
   "execution_count": 27,
   "metadata": {
    "colab": {},
    "colab_type": "code",
    "id": "wr1KSAEGG4h9"
   },
   "outputs": [],
   "source": [
    "#@test {\"skip\": true}\n",
    "def collect_step(environment, policy, buffer):\n",
    "  time_step = environment.current_time_step()\n",
    "  action_step = policy.action(time_step)\n",
    "  next_time_step = environment.step(action_step.action)\n",
    "  traj = trajectory.from_transition(time_step, action_step, next_time_step)\n",
    "\n",
    "  # Add trajectory to the replay buffer\n",
    "  buffer.add_batch(traj)\n",
    "\n",
    "def collect_data(env, policy, buffer, steps):\n",
    "  for _ in range(steps):\n",
    "    collect_step(env, policy, buffer)\n",
    "\n",
    "collect_data(train_env, random_policy, replay_buffer, steps=100)\n",
    "\n",
    "# This loop is so common in RL, that we provide standard implementations. \n",
    "# For more details see the drivers module.\n",
    "# https://github.com/tensorflow/agents/blob/master/tf_agents/docs/python/tf_agents/drivers.md"
   ]
  },
  {
   "cell_type": "markdown",
   "metadata": {
    "colab_type": "text",
    "id": "84z5pQJdoKxo"
   },
   "source": [
    "The replay buffer is now a collection of Trajectories."
   ]
  },
  {
   "cell_type": "code",
   "execution_count": 28,
   "metadata": {
    "colab": {},
    "colab_type": "code",
    "id": "4wZnLu2ViO4E"
   },
   "outputs": [],
   "source": [
    "# For the curious:\n",
    "# Uncomment to peel one of these off and inspect it.\n",
    "# iter(replay_buffer.as_dataset()).next()"
   ]
  },
  {
   "cell_type": "markdown",
   "metadata": {
    "colab_type": "text",
    "id": "TujU-PMUsKjS"
   },
   "source": [
    "The agent needs access to the replay buffer. This is provided by creating an iterable `tf.data.Dataset` pipeline which will feed data to the agent.\n",
    "\n",
    "Each row of the replay buffer only stores a single observation step. But since the DQN Agent needs both the current and next observation to compute the loss, the dataset pipeline will sample two adjacent rows for each item in the batch (`num_steps=2`).\n",
    "\n",
    "This dataset is also optimized by running parallel calls and prefetching data."
   ]
  },
  {
   "cell_type": "code",
   "execution_count": 29,
   "metadata": {
    "colab": {},
    "colab_type": "code",
    "id": "ba7bilizt_qW"
   },
   "outputs": [
    {
     "data": {
      "text/plain": [
       "<PrefetchDataset shapes: (Trajectory(step_type=(64, 2), observation=(64, 2, 4), action=(64, 2), policy_info=(), next_step_type=(64, 2), reward=(64, 2), discount=(64, 2)), BufferInfo(ids=(64, 2), probabilities=(64,))), types: (Trajectory(step_type=tf.int32, observation=tf.float32, action=tf.int64, policy_info=(), next_step_type=tf.int32, reward=tf.float32, discount=tf.float32), BufferInfo(ids=tf.int64, probabilities=tf.float32))>"
      ]
     },
     "execution_count": 29,
     "metadata": {},
     "output_type": "execute_result"
    }
   ],
   "source": [
    "# Dataset generates trajectories with shape [Bx2x...]\n",
    "dataset = replay_buffer.as_dataset(\n",
    "    num_parallel_calls=3, \n",
    "    sample_batch_size=batch_size, \n",
    "    num_steps=2).prefetch(3)\n",
    "\n",
    "\n",
    "dataset"
   ]
  },
  {
   "cell_type": "code",
   "execution_count": 30,
   "metadata": {
    "colab": {},
    "colab_type": "code",
    "id": "K13AST-2ppOq"
   },
   "outputs": [
    {
     "name": "stdout",
     "output_type": "stream",
     "text": [
      "<tensorflow.python.data.ops.iterator_ops.OwnedIterator object at 0x7f58684a64a8>\n"
     ]
    }
   ],
   "source": [
    "iterator = iter(dataset)\n",
    "\n",
    "print(iterator)\n"
   ]
  },
  {
   "cell_type": "code",
   "execution_count": 31,
   "metadata": {
    "colab": {},
    "colab_type": "code",
    "id": "Th5w5Sff0b16"
   },
   "outputs": [],
   "source": [
    "# For the curious:\n",
    "# Uncomment to see what the dataset iterator is feeding to the agent.\n",
    "# Compare this representation of replay data \n",
    "# to the collection of individual trajectories shown earlier.\n",
    "\n",
    "# iterator.next()"
   ]
  },
  {
   "cell_type": "markdown",
   "metadata": {
    "colab_type": "text",
    "id": "hBc9lj9VWWtZ"
   },
   "source": [
    "## Training the agent\n",
    "\n",
    "Two things must happen during the training loop:\n",
    "\n",
    "-   collect data from the environment\n",
    "-   use that data to train the agent's neural network(s)\n",
    "\n",
    "This example also periodicially evaluates the policy and prints the current score.\n",
    "\n",
    "The following will take ~5 minutes to run."
   ]
  },
  {
   "cell_type": "code",
   "execution_count": 32,
   "metadata": {
    "colab": {},
    "colab_type": "code",
    "id": "0pTbJ3PeyF-u"
   },
   "outputs": [
    {
     "name": "stdout",
     "output_type": "stream",
     "text": [
      "step = 200: loss = 13.798891067504883\n"
     ]
    },
    {
     "name": "stdout",
     "output_type": "stream",
     "text": [
      "step = 400: loss = 3.6095542907714844\n"
     ]
    },
    {
     "name": "stdout",
     "output_type": "stream",
     "text": [
      "step = 600: loss = 19.20572853088379\n"
     ]
    },
    {
     "name": "stdout",
     "output_type": "stream",
     "text": [
      "step = 800: loss = 28.113126754760742\n"
     ]
    },
    {
     "name": "stdout",
     "output_type": "stream",
     "text": [
      "step = 1000: loss = 12.942713737487793\n"
     ]
    },
    {
     "name": "stdout",
     "output_type": "stream",
     "text": [
      "step = 1000: Average Return = 19.600000381469727\n"
     ]
    },
    {
     "name": "stdout",
     "output_type": "stream",
     "text": [
      "step = 1200: loss = 59.120948791503906\n"
     ]
    },
    {
     "name": "stdout",
     "output_type": "stream",
     "text": [
      "step = 1400: loss = 67.01869201660156\n"
     ]
    },
    {
     "name": "stdout",
     "output_type": "stream",
     "text": [
      "step = 1600: loss = 94.10111999511719\n"
     ]
    },
    {
     "name": "stdout",
     "output_type": "stream",
     "text": [
      "step = 1800: loss = 48.42111587524414\n"
     ]
    },
    {
     "name": "stdout",
     "output_type": "stream",
     "text": [
      "step = 2000: loss = 7.235441207885742\n"
     ]
    },
    {
     "name": "stdout",
     "output_type": "stream",
     "text": [
      "step = 2000: Average Return = 44.29999923706055\n"
     ]
    },
    {
     "name": "stdout",
     "output_type": "stream",
     "text": [
      "step = 2200: loss = 17.5537052154541\n"
     ]
    },
    {
     "name": "stdout",
     "output_type": "stream",
     "text": [
      "step = 2400: loss = 34.763587951660156\n"
     ]
    },
    {
     "name": "stdout",
     "output_type": "stream",
     "text": [
      "step = 2600: loss = 44.71828842163086\n"
     ]
    },
    {
     "name": "stdout",
     "output_type": "stream",
     "text": [
      "step = 2800: loss = 5.275376319885254\n"
     ]
    },
    {
     "name": "stdout",
     "output_type": "stream",
     "text": [
      "step = 3000: loss = 31.805768966674805\n"
     ]
    },
    {
     "name": "stdout",
     "output_type": "stream",
     "text": [
      "step = 3000: Average Return = 52.400001525878906\n"
     ]
    },
    {
     "name": "stdout",
     "output_type": "stream",
     "text": [
      "step = 3200: loss = 17.986282348632812\n"
     ]
    },
    {
     "name": "stdout",
     "output_type": "stream",
     "text": [
      "step = 3400: loss = 28.951765060424805\n"
     ]
    },
    {
     "name": "stdout",
     "output_type": "stream",
     "text": [
      "step = 3600: loss = 47.2375373840332\n"
     ]
    },
    {
     "name": "stdout",
     "output_type": "stream",
     "text": [
      "step = 3800: loss = 87.74504089355469\n"
     ]
    },
    {
     "name": "stdout",
     "output_type": "stream",
     "text": [
      "step = 4000: loss = 48.99483871459961\n"
     ]
    },
    {
     "name": "stdout",
     "output_type": "stream",
     "text": [
      "step = 4000: Average Return = 162.60000610351562\n"
     ]
    },
    {
     "name": "stdout",
     "output_type": "stream",
     "text": [
      "step = 4200: loss = 47.462127685546875\n"
     ]
    },
    {
     "name": "stdout",
     "output_type": "stream",
     "text": [
      "step = 4400: loss = 218.08294677734375\n"
     ]
    },
    {
     "name": "stdout",
     "output_type": "stream",
     "text": [
      "step = 4600: loss = 61.60382843017578\n"
     ]
    },
    {
     "name": "stdout",
     "output_type": "stream",
     "text": [
      "step = 4800: loss = 97.95854949951172\n"
     ]
    },
    {
     "name": "stdout",
     "output_type": "stream",
     "text": [
      "step = 5000: loss = 39.33012008666992\n"
     ]
    },
    {
     "name": "stdout",
     "output_type": "stream",
     "text": [
      "step = 5000: Average Return = 188.5\n"
     ]
    },
    {
     "name": "stdout",
     "output_type": "stream",
     "text": [
      "step = 5200: loss = 494.14471435546875\n"
     ]
    },
    {
     "name": "stdout",
     "output_type": "stream",
     "text": [
      "step = 5400: loss = 221.13839721679688\n"
     ]
    },
    {
     "name": "stdout",
     "output_type": "stream",
     "text": [
      "step = 5600: loss = 45.4808235168457\n"
     ]
    },
    {
     "name": "stdout",
     "output_type": "stream",
     "text": [
      "step = 5800: loss = 80.13878631591797\n"
     ]
    },
    {
     "name": "stdout",
     "output_type": "stream",
     "text": [
      "step = 6000: loss = 8.803069114685059\n"
     ]
    },
    {
     "name": "stdout",
     "output_type": "stream",
     "text": [
      "step = 6000: Average Return = 191.3000030517578\n"
     ]
    },
    {
     "name": "stdout",
     "output_type": "stream",
     "text": [
      "step = 6200: loss = 68.66598510742188\n"
     ]
    },
    {
     "name": "stdout",
     "output_type": "stream",
     "text": [
      "step = 6400: loss = 71.73528289794922\n"
     ]
    },
    {
     "name": "stdout",
     "output_type": "stream",
     "text": [
      "step = 6600: loss = 65.2472915649414\n"
     ]
    },
    {
     "name": "stdout",
     "output_type": "stream",
     "text": [
      "step = 6800: loss = 13.900226593017578\n"
     ]
    },
    {
     "name": "stdout",
     "output_type": "stream",
     "text": [
      "step = 7000: loss = 96.77547454833984\n"
     ]
    },
    {
     "name": "stdout",
     "output_type": "stream",
     "text": [
      "step = 7000: Average Return = 192.1999969482422\n"
     ]
    },
    {
     "name": "stdout",
     "output_type": "stream",
     "text": [
      "step = 7200: loss = 27.086793899536133\n"
     ]
    },
    {
     "name": "stdout",
     "output_type": "stream",
     "text": [
      "step = 7400: loss = 98.74766540527344\n"
     ]
    },
    {
     "name": "stdout",
     "output_type": "stream",
     "text": [
      "step = 7600: loss = 56.3275146484375\n"
     ]
    },
    {
     "name": "stdout",
     "output_type": "stream",
     "text": [
      "step = 7800: loss = 16.108213424682617\n"
     ]
    },
    {
     "name": "stdout",
     "output_type": "stream",
     "text": [
      "step = 8000: loss = 91.1777114868164\n"
     ]
    },
    {
     "name": "stdout",
     "output_type": "stream",
     "text": [
      "step = 8000: Average Return = 177.3000030517578\n"
     ]
    },
    {
     "name": "stdout",
     "output_type": "stream",
     "text": [
      "step = 8200: loss = 408.5981140136719\n"
     ]
    },
    {
     "name": "stdout",
     "output_type": "stream",
     "text": [
      "step = 8400: loss = 207.9286346435547\n"
     ]
    },
    {
     "name": "stdout",
     "output_type": "stream",
     "text": [
      "step = 8600: loss = 301.8984375\n"
     ]
    },
    {
     "name": "stdout",
     "output_type": "stream",
     "text": [
      "step = 8800: loss = 29.27445411682129\n"
     ]
    },
    {
     "name": "stdout",
     "output_type": "stream",
     "text": [
      "step = 9000: loss = 278.143798828125\n"
     ]
    },
    {
     "name": "stdout",
     "output_type": "stream",
     "text": [
      "step = 9000: Average Return = 200.0\n"
     ]
    },
    {
     "name": "stdout",
     "output_type": "stream",
     "text": [
      "step = 9200: loss = 509.64520263671875\n"
     ]
    },
    {
     "name": "stdout",
     "output_type": "stream",
     "text": [
      "step = 9400: loss = 215.90118408203125\n"
     ]
    },
    {
     "name": "stdout",
     "output_type": "stream",
     "text": [
      "step = 9600: loss = 137.68716430664062\n"
     ]
    },
    {
     "name": "stdout",
     "output_type": "stream",
     "text": [
      "step = 9800: loss = 208.09597778320312\n"
     ]
    },
    {
     "name": "stdout",
     "output_type": "stream",
     "text": [
      "step = 10000: loss = 31.978715896606445\n"
     ]
    },
    {
     "name": "stdout",
     "output_type": "stream",
     "text": [
      "step = 10000: Average Return = 185.6999969482422\n"
     ]
    },
    {
     "name": "stdout",
     "output_type": "stream",
     "text": [
      "step = 10200: loss = 23.36370086669922\n"
     ]
    },
    {
     "name": "stdout",
     "output_type": "stream",
     "text": [
      "step = 10400: loss = 403.6136474609375\n"
     ]
    },
    {
     "name": "stdout",
     "output_type": "stream",
     "text": [
      "step = 10600: loss = 302.963134765625\n"
     ]
    },
    {
     "name": "stdout",
     "output_type": "stream",
     "text": [
      "step = 10800: loss = 18.5728759765625\n"
     ]
    },
    {
     "name": "stdout",
     "output_type": "stream",
     "text": [
      "step = 11000: loss = 133.65122985839844\n"
     ]
    },
    {
     "name": "stdout",
     "output_type": "stream",
     "text": [
      "step = 11000: Average Return = 195.60000610351562\n"
     ]
    },
    {
     "name": "stdout",
     "output_type": "stream",
     "text": [
      "step = 11200: loss = 29.067659378051758\n"
     ]
    },
    {
     "name": "stdout",
     "output_type": "stream",
     "text": [
      "step = 11400: loss = 1287.1337890625\n"
     ]
    },
    {
     "name": "stdout",
     "output_type": "stream",
     "text": [
      "step = 11600: loss = 19.776453018188477\n"
     ]
    },
    {
     "name": "stdout",
     "output_type": "stream",
     "text": [
      "step = 11800: loss = 28.793888092041016\n"
     ]
    },
    {
     "name": "stdout",
     "output_type": "stream",
     "text": [
      "step = 12000: loss = 29.423547744750977\n"
     ]
    },
    {
     "name": "stdout",
     "output_type": "stream",
     "text": [
      "step = 12000: Average Return = 178.8000030517578\n"
     ]
    },
    {
     "name": "stdout",
     "output_type": "stream",
     "text": [
      "step = 12200: loss = 178.68087768554688\n"
     ]
    },
    {
     "name": "stdout",
     "output_type": "stream",
     "text": [
      "step = 12400: loss = 28.333850860595703\n"
     ]
    },
    {
     "name": "stdout",
     "output_type": "stream",
     "text": [
      "step = 12600: loss = 16.903757095336914\n"
     ]
    },
    {
     "name": "stdout",
     "output_type": "stream",
     "text": [
      "step = 12800: loss = 556.6394653320312\n"
     ]
    },
    {
     "name": "stdout",
     "output_type": "stream",
     "text": [
      "step = 13000: loss = 443.017822265625\n"
     ]
    },
    {
     "name": "stdout",
     "output_type": "stream",
     "text": [
      "step = 13000: Average Return = 196.1999969482422\n"
     ]
    },
    {
     "name": "stdout",
     "output_type": "stream",
     "text": [
      "step = 13200: loss = 22.85668182373047\n"
     ]
    },
    {
     "name": "stdout",
     "output_type": "stream",
     "text": [
      "step = 13400: loss = 541.196533203125\n"
     ]
    },
    {
     "name": "stdout",
     "output_type": "stream",
     "text": [
      "step = 13600: loss = 434.7855224609375\n"
     ]
    },
    {
     "name": "stdout",
     "output_type": "stream",
     "text": [
      "step = 13800: loss = 971.068115234375\n"
     ]
    },
    {
     "name": "stdout",
     "output_type": "stream",
     "text": [
      "step = 14000: loss = 299.40826416015625\n"
     ]
    },
    {
     "name": "stdout",
     "output_type": "stream",
     "text": [
      "step = 14000: Average Return = 199.8000030517578\n"
     ]
    },
    {
     "name": "stdout",
     "output_type": "stream",
     "text": [
      "step = 14200: loss = 24.932052612304688\n"
     ]
    },
    {
     "name": "stdout",
     "output_type": "stream",
     "text": [
      "step = 14400: loss = 14.215859413146973\n"
     ]
    },
    {
     "name": "stdout",
     "output_type": "stream",
     "text": [
      "step = 14600: loss = 32.41102600097656\n"
     ]
    },
    {
     "name": "stdout",
     "output_type": "stream",
     "text": [
      "step = 14800: loss = 15.351921081542969\n"
     ]
    },
    {
     "name": "stdout",
     "output_type": "stream",
     "text": [
      "step = 15000: loss = 14.404813766479492\n"
     ]
    },
    {
     "name": "stdout",
     "output_type": "stream",
     "text": [
      "step = 15000: Average Return = 200.0\n"
     ]
    },
    {
     "name": "stdout",
     "output_type": "stream",
     "text": [
      "step = 15200: loss = 415.3689880371094\n"
     ]
    },
    {
     "name": "stdout",
     "output_type": "stream",
     "text": [
      "step = 15400: loss = 327.8532409667969\n"
     ]
    },
    {
     "name": "stdout",
     "output_type": "stream",
     "text": [
      "step = 15600: loss = 12.931583404541016\n"
     ]
    },
    {
     "name": "stdout",
     "output_type": "stream",
     "text": [
      "step = 15800: loss = 261.9283752441406\n"
     ]
    },
    {
     "name": "stdout",
     "output_type": "stream",
     "text": [
      "step = 16000: loss = 18.042396545410156\n"
     ]
    },
    {
     "name": "stdout",
     "output_type": "stream",
     "text": [
      "step = 16000: Average Return = 196.39999389648438\n"
     ]
    },
    {
     "name": "stdout",
     "output_type": "stream",
     "text": [
      "step = 16200: loss = 33.81758499145508\n"
     ]
    },
    {
     "name": "stdout",
     "output_type": "stream",
     "text": [
      "step = 16400: loss = 942.7861938476562\n"
     ]
    },
    {
     "name": "stdout",
     "output_type": "stream",
     "text": [
      "step = 16600: loss = 657.9769287109375\n"
     ]
    },
    {
     "name": "stdout",
     "output_type": "stream",
     "text": [
      "step = 16800: loss = 11.876775741577148\n"
     ]
    },
    {
     "name": "stdout",
     "output_type": "stream",
     "text": [
      "step = 17000: loss = 25.035982131958008\n"
     ]
    },
    {
     "name": "stdout",
     "output_type": "stream",
     "text": [
      "step = 17000: Average Return = 199.60000610351562\n"
     ]
    },
    {
     "name": "stdout",
     "output_type": "stream",
     "text": [
      "step = 17200: loss = 249.1173553466797\n"
     ]
    },
    {
     "name": "stdout",
     "output_type": "stream",
     "text": [
      "step = 17400: loss = 17.904783248901367\n"
     ]
    },
    {
     "name": "stdout",
     "output_type": "stream",
     "text": [
      "step = 17600: loss = 57.57312774658203\n"
     ]
    },
    {
     "name": "stdout",
     "output_type": "stream",
     "text": [
      "step = 17800: loss = 1148.765380859375\n"
     ]
    },
    {
     "name": "stdout",
     "output_type": "stream",
     "text": [
      "step = 18000: loss = 38.61846160888672\n"
     ]
    },
    {
     "name": "stdout",
     "output_type": "stream",
     "text": [
      "step = 18000: Average Return = 200.0\n"
     ]
    },
    {
     "name": "stdout",
     "output_type": "stream",
     "text": [
      "step = 18200: loss = 25.9858455657959\n"
     ]
    },
    {
     "name": "stdout",
     "output_type": "stream",
     "text": [
      "step = 18400: loss = 20.40447235107422\n"
     ]
    },
    {
     "name": "stdout",
     "output_type": "stream",
     "text": [
      "step = 18600: loss = 508.6686706542969\n"
     ]
    },
    {
     "name": "stdout",
     "output_type": "stream",
     "text": [
      "step = 18800: loss = 161.10272216796875\n"
     ]
    },
    {
     "name": "stdout",
     "output_type": "stream",
     "text": [
      "step = 19000: loss = 33.35107421875\n"
     ]
    },
    {
     "name": "stdout",
     "output_type": "stream",
     "text": [
      "step = 19000: Average Return = 200.0\n"
     ]
    },
    {
     "name": "stdout",
     "output_type": "stream",
     "text": [
      "step = 19200: loss = 43.72674560546875\n"
     ]
    },
    {
     "name": "stdout",
     "output_type": "stream",
     "text": [
      "step = 19400: loss = 861.6154174804688\n"
     ]
    },
    {
     "name": "stdout",
     "output_type": "stream",
     "text": [
      "step = 19600: loss = 30.71151351928711\n"
     ]
    },
    {
     "name": "stdout",
     "output_type": "stream",
     "text": [
      "step = 19800: loss = 1642.886962890625\n"
     ]
    },
    {
     "name": "stdout",
     "output_type": "stream",
     "text": [
      "step = 20000: loss = 37.825069427490234\n"
     ]
    },
    {
     "name": "stdout",
     "output_type": "stream",
     "text": [
      "step = 20000: Average Return = 200.0\n"
     ]
    }
   ],
   "source": [
    "#@test {\"skip\": true}\n",
    "try:\n",
    "  %%time\n",
    "except:\n",
    "  pass\n",
    "\n",
    "# (Optional) Optimize by wrapping some of the code in a graph using TF function.\n",
    "agent.train = common.function(agent.train)\n",
    "\n",
    "# Reset the train step\n",
    "agent.train_step_counter.assign(0)\n",
    "\n",
    "# Evaluate the agent's policy once before training.\n",
    "avg_return = compute_avg_return(eval_env, agent.policy, num_eval_episodes)\n",
    "returns = [avg_return]\n",
    "\n",
    "for _ in range(num_iterations):\n",
    "\n",
    "  # Collect a few steps using collect_policy and save to the replay buffer.\n",
    "  for _ in range(collect_steps_per_iteration):\n",
    "    collect_step(train_env, agent.collect_policy, replay_buffer)\n",
    "\n",
    "  # Sample a batch of data from the buffer and update the agent's network.\n",
    "  experience, unused_info = next(iterator)\n",
    "  train_loss = agent.train(experience).loss\n",
    "\n",
    "  step = agent.train_step_counter.numpy()\n",
    "\n",
    "  if step % log_interval == 0:\n",
    "    print('step = {0}: loss = {1}'.format(step, train_loss))\n",
    "\n",
    "  if step % eval_interval == 0:\n",
    "    avg_return = compute_avg_return(eval_env, agent.policy, num_eval_episodes)\n",
    "    print('step = {0}: Average Return = {1}'.format(step, avg_return))\n",
    "    returns.append(avg_return)"
   ]
  },
  {
   "cell_type": "markdown",
   "metadata": {
    "colab_type": "text",
    "id": "68jNcA_TiJDq"
   },
   "source": [
    "## Visualization\n"
   ]
  },
  {
   "cell_type": "markdown",
   "metadata": {
    "colab_type": "text",
    "id": "aO-LWCdbbOIC"
   },
   "source": [
    "### Plots\n",
    "\n",
    "Use `matplotlib.pyplot` to chart how the policy improved during training.\n",
    "\n",
    "One iteration of `Cartpole-v0` consists of 200 time steps. The environment gives a reward of `+1` for each step the pole stays up, so the maximum return for one episode is 200. The charts shows the return increasing towards that maximum each time it is evaluated during training. (It may be a little unstable and not increase monotonically each time.)"
   ]
  },
  {
   "cell_type": "code",
   "execution_count": 33,
   "metadata": {
    "colab": {},
    "colab_type": "code",
    "id": "NxtL1mbOYCVO"
   },
   "outputs": [
    {
     "data": {
      "text/plain": [
       "(3.859999799728394, 250.0)"
      ]
     },
     "execution_count": 33,
     "metadata": {},
     "output_type": "execute_result"
    },
    {
     "data": {
      "image/png": "[encoded data removed]",
      "text/plain": [
       "<Figure size 432x288 with 1 Axes>"
      ]
     },
     "metadata": {
      "needs_background": "light"
     },
     "output_type": "display_data"
    }
   ],
   "source": [
    "#@test {\"skip\": true}\n",
    "\n",
    "iterations = range(0, num_iterations + 1, eval_interval)\n",
    "plt.plot(iterations, returns)\n",
    "plt.ylabel('Average Return')\n",
    "plt.xlabel('Iterations')\n",
    "plt.ylim(top=250)"
   ]
  },
  {
   "cell_type": "markdown",
   "metadata": {
    "colab_type": "text",
    "id": "M7-XpPP99Cy7"
   },
   "source": [
    "### Videos"
   ]
  },
  {
   "cell_type": "markdown",
   "metadata": {
    "colab_type": "text",
    "id": "9pGfGxSH32gn"
   },
   "source": [
    "Charts are nice. But more exciting is seeing an agent actually performing a task in an environment. \n",
    "\n",
    "First, create a function to embed videos in the notebook."
   ]
  },
  {
   "cell_type": "code",
   "execution_count": 34,
   "metadata": {
    "colab": {},
    "colab_type": "code",
    "id": "ULaGr8pvOKbl"
   },
   "outputs": [],
   "source": [
    "def embed_mp4(filename):\n",
    "  \"\"\"Embeds an mp4 file in the notebook.\"\"\"\n",
    "  video = open(filename,'rb').read()\n",
    "  b64 = base64.b64encode(video)\n",
    "  tag = '''\n",
    "  <video width=\"640\" height=\"480\" controls>\n",
    "    <source src=\"data:video/mp4;base64,{0}\" type=\"video/mp4\">\n",
    "  Your browser does not support the video tag.\n",
    "  </video>'''.format(b64.decode())\n",
    "\n",
    "  return IPython.display.HTML(tag)"
   ]
  },
  {
   "cell_type": "markdown",
   "metadata": {
    "colab_type": "text",
    "id": "9c_PH-pX4Pr5"
   },
   "source": [
    "Now iterate through a few episodes of the Cartpole game with the agent. The underlying Python environment (the one \"inside\" the TensorFlow environment wrapper) provides a `render()` method, which outputs an image of the environment state. These can be collected into a video."
   ]
  },
  {
   "cell_type": "code",
   "execution_count": 35,
   "metadata": {
    "colab": {},
    "colab_type": "code",
    "id": "owOVWB158NlF"
   },
   "outputs": [
    {
     "name": "stderr",
     "output_type": "stream",
     "text": [
      "WARNING:root:IMAGEIO FFMPEG_WRITER WARNING: input image is not divisible by macro_block_size=16, resizing from (400, 600) to (400, 608) to ensure video compatibility with most codecs and players. To prevent resizing, make your input image divisible by the macro_block_size or set the macro_block_size to None (risking incompatibility). You may also see a FFMPEG warning concerning speedloss due to data not being aligned.\n"
     ]
    },
    {
     "data": {
      "text/html": [
       "\n",
       "  <video width=\"640\" height=\"480\" controls>\n",
       "    <source src=\"data:video/mp4;base64,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\" type=\"video/mp4\">\n",
       "  Your browser does not support the video tag.\n",
       "  </video>"
      ],
      "text/plain": [
       "<IPython.core.display.HTML object>"
      ]
     },
     "execution_count": 35,
     "metadata": {},
     "output_type": "execute_result"
    }
   ],
   "source": [
    "def create_policy_eval_video(policy, filename, num_episodes=5, fps=30):\n",
    "  filename = filename + \".mp4\"\n",
    "  with imageio.get_writer(filename, fps=fps) as video:\n",
    "    for _ in range(num_episodes):\n",
    "      time_step = eval_env.reset()\n",
    "      video.append_data(eval_py_env.render())\n",
    "      while not time_step.is_last():\n",
    "        action_step = policy.action(time_step)\n",
    "        time_step = eval_env.step(action_step.action)\n",
    "        video.append_data(eval_py_env.render())\n",
    "  return embed_mp4(filename)\n",
    "\n",
    "\n",
    "\n",
    "\n",
    "create_policy_eval_video(agent.policy, \"trained-agent\")"
   ]
  },
  {
   "cell_type": "markdown",
   "metadata": {
    "colab_type": "text",
    "id": "povaAOcZygLw"
   },
   "source": [
    "For fun, compare the trained agent (above) to an agent moving randomly. (It does not do as well.)"
   ]
  },
  {
   "cell_type": "code",
   "execution_count": 36,
   "metadata": {
    "colab": {},
    "colab_type": "code",
    "id": "pJZIdC37yNH4"
   },
   "outputs": [
    {
     "name": "stderr",
     "output_type": "stream",
     "text": [
      "WARNING:root:IMAGEIO FFMPEG_WRITER WARNING: input image is not divisible by macro_block_size=16, resizing from (400, 600) to (400, 608) to ensure video compatibility with most codecs and players. To prevent resizing, make your input image divisible by the macro_block_size or set the macro_block_size to None (risking incompatibility). You may also see a FFMPEG warning concerning speedloss due to data not being aligned.\n"
     ]
    },
    {
     "data": {
      "text/html": [
       "\n",
       "  <video width=\"640\" height=\"480\" controls>\n",
       "    <source src=\"data:video/mp4;base64,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\" type=\"video/mp4\">\n",
       "  Your browser does not support the video tag.\n",
       "  </video>"
      ],
      "text/plain": [
       "<IPython.core.display.HTML object>"
      ]
     },
     "execution_count": 36,
     "metadata": {},
     "output_type": "execute_result"
    }
   ],
   "source": [
    "create_policy_eval_video(random_policy, \"random-agent\")"
   ]
  }
 ],
 "metadata": {
  "colab": {
   "collapsed_sections": [],
   "name": "DQN Tutorial.ipynb",
   "private_outputs": true,
   "provenance": [],
   "toc_visible": true
  },
  "kernelspec": {
   "display_name": "Python 3",
   "language": "python",
   "name": "python3"
  },
  "language_info": {
   "codemirror_mode": {
    "name": "ipython",
    "version": 3
   },
   "file_extension": ".py",
   "mimetype": "text/x-python",
   "name": "python",
   "nbconvert_exporter": "python",
   "pygments_lexer": "ipython3",
   "version": "3.6.9"
  },
  "pycharm": {
   "stem_cell": {
    "cell_type": "raw",
    "metadata": {
     "collapsed": false
    },
    "source": []
   }
  }
 },
 "nbformat": 4,
 "nbformat_minor": 0
}
